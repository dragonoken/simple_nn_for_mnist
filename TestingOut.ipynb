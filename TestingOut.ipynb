{
 "cells": [
  {
   "cell_type": "code",
   "execution_count": 1,
   "metadata": {
    "scrolled": true
   },
   "outputs": [],
   "source": [
    "from mnist import MNIST\n",
    "import numpy as np\n",
    "import os"
   ]
  },
  {
   "cell_type": "code",
   "execution_count": 2,
   "metadata": {},
   "outputs": [],
   "source": [
    "mnist_data = MNIST(path='./samples/', gz=True)"
   ]
  },
  {
   "cell_type": "code",
   "execution_count": 3,
   "metadata": {},
   "outputs": [],
   "source": [
    "train_data = mnist_data.load_training()"
   ]
  },
  {
   "cell_type": "code",
   "execution_count": 4,
   "metadata": {},
   "outputs": [
    {
     "data": {
      "text/plain": [
       "2"
      ]
     },
     "execution_count": 4,
     "metadata": {},
     "output_type": "execute_result"
    }
   ],
   "source": [
    "len(train_data)"
   ]
  },
  {
   "cell_type": "code",
   "execution_count": 5,
   "metadata": {},
   "outputs": [
    {
     "data": {
      "text/plain": [
       "60000"
      ]
     },
     "execution_count": 5,
     "metadata": {},
     "output_type": "execute_result"
    }
   ],
   "source": [
    "len(train_data[0])"
   ]
  },
  {
   "cell_type": "code",
   "execution_count": 6,
   "metadata": {},
   "outputs": [
    {
     "data": {
      "text/plain": [
       "60000"
      ]
     },
     "execution_count": 6,
     "metadata": {},
     "output_type": "execute_result"
    }
   ],
   "source": [
    "len(train_data[1])"
   ]
  },
  {
   "cell_type": "code",
   "execution_count": 7,
   "metadata": {},
   "outputs": [
    {
     "data": {
      "text/plain": [
       "784"
      ]
     },
     "execution_count": 7,
     "metadata": {},
     "output_type": "execute_result"
    }
   ],
   "source": [
    "len(train_data[0][0])"
   ]
  },
  {
   "cell_type": "code",
   "execution_count": 8,
   "metadata": {},
   "outputs": [],
   "source": [
    "#len(train_data[1][0])"
   ]
  },
  {
   "cell_type": "code",
   "execution_count": 9,
   "metadata": {},
   "outputs": [
    {
     "name": "stdout",
     "output_type": "stream",
     "text": [
      "<class 'list'> <class 'array.array'>\n"
     ]
    }
   ],
   "source": [
    "print(type(train_data[0]), type(train_data[1]))"
   ]
  },
  {
   "cell_type": "markdown",
   "metadata": {},
   "source": [
    "load_training returns a tuple with two lists: first one containing lists of values for data points (60000 lists, each with 784 entries), and second one is a list of labels as integers (60000 integers)"
   ]
  },
  {
   "cell_type": "code",
   "execution_count": 10,
   "metadata": {},
   "outputs": [],
   "source": [
    "X_train = np.array(train_data[0])\n",
    "y_train = np.array(train_data[1]).reshape((-1, 1))"
   ]
  },
  {
   "cell_type": "code",
   "execution_count": 11,
   "metadata": {},
   "outputs": [
    {
     "data": {
      "text/plain": [
       "(60000, 784)"
      ]
     },
     "execution_count": 11,
     "metadata": {},
     "output_type": "execute_result"
    }
   ],
   "source": [
    "X_train.shape"
   ]
  },
  {
   "cell_type": "code",
   "execution_count": 12,
   "metadata": {},
   "outputs": [
    {
     "data": {
      "text/plain": [
       "(60000, 1)"
      ]
     },
     "execution_count": 12,
     "metadata": {},
     "output_type": "execute_result"
    }
   ],
   "source": [
    "y_train.shape"
   ]
  },
  {
   "cell_type": "code",
   "execution_count": 13,
   "metadata": {},
   "outputs": [
    {
     "data": {
      "text/plain": [
       "255"
      ]
     },
     "execution_count": 13,
     "metadata": {},
     "output_type": "execute_result"
    }
   ],
   "source": [
    "X_train.max()"
   ]
  },
  {
   "cell_type": "code",
   "execution_count": 14,
   "metadata": {},
   "outputs": [
    {
     "data": {
      "text/plain": [
       "0"
      ]
     },
     "execution_count": 14,
     "metadata": {},
     "output_type": "execute_result"
    }
   ],
   "source": [
    "X_train.min()"
   ]
  },
  {
   "cell_type": "code",
   "execution_count": 15,
   "metadata": {},
   "outputs": [
    {
     "data": {
      "text/plain": [
       "9"
      ]
     },
     "execution_count": 15,
     "metadata": {},
     "output_type": "execute_result"
    }
   ],
   "source": [
    "y_train.max()"
   ]
  },
  {
   "cell_type": "code",
   "execution_count": 16,
   "metadata": {},
   "outputs": [
    {
     "data": {
      "text/plain": [
       "0"
      ]
     },
     "execution_count": 16,
     "metadata": {},
     "output_type": "execute_result"
    }
   ],
   "source": [
    "y_train.min()"
   ]
  },
  {
   "cell_type": "code",
   "execution_count": 17,
   "metadata": {},
   "outputs": [],
   "source": [
    "import matplotlib.pyplot as plt\n",
    "%matplotlib inline"
   ]
  },
  {
   "cell_type": "code",
   "execution_count": 18,
   "metadata": {},
   "outputs": [
    {
     "data": {
      "image/png": "[encoded data removed]",
      "text/plain": [
       "<Figure size 2000x2000 with 5 Axes>"
      ]
     },
     "metadata": {},
     "output_type": "display_data"
    }
   ],
   "source": [
    "fig, axes = plt.subplots(nrows=1, ncols=5, figsize=(20, 20), dpi=100)\n",
    "for n, ax in zip(np.random.permutation(len(X_train))[:5], axes):\n",
    "    ax.set_xticks([])\n",
    "    ax.set_yticks([])\n",
    "    ax.set_title(y_train[n])\n",
    "    ax.imshow(X_train[n].reshape(28, 28), cmap=\"Greys\")"
   ]
  },
  {
   "cell_type": "code",
   "execution_count": 19,
   "metadata": {},
   "outputs": [],
   "source": [
    "X_test, y_test = mnist_data.load_testing()\n",
    "X_test = np.array(X_test)\n",
    "y_test = np.array(y_test).reshape(-1, 1)"
   ]
  },
  {
   "cell_type": "code",
   "execution_count": 20,
   "metadata": {},
   "outputs": [],
   "source": [
    "import torch\n",
    "import torch.nn as nn\n",
    "import torch.nn.functional as F"
   ]
  },
  {
   "cell_type": "code",
   "execution_count": 21,
   "metadata": {},
   "outputs": [],
   "source": [
    "device = \"cuda\""
   ]
  },
  {
   "cell_type": "code",
   "execution_count": 22,
   "metadata": {},
   "outputs": [],
   "source": [
    "def normalize(input_tensor, dim=None):\n",
    "    if dim is None:\n",
    "        mean = input_tensor.data.mean()\n",
    "        std = input_tensor.data.std()\n",
    "    else:\n",
    "        mean = input_tensor.data.mean(dim=dim)\n",
    "        std = input_tensor.data.std(dim=dim)\n",
    "\n",
    "    input_tensor.data = input_tensor.data - mean # mean of 0\n",
    "    input_tensor.data = input_tensor.data / std.max(torch.tensor(1e-12, dtype=std.dtype, device=std.device)) # standard deviation of 1, prevent division by zero"
   ]
  },
  {
   "cell_type": "code",
   "execution_count": 23,
   "metadata": {},
   "outputs": [],
   "source": [
    "def convert_and_normalize_input(X, dtype=None, device=None, dim=None):\n",
    "    X_minmaxed = torch.tensor(X / 255, dtype=dtype, device=device)\n",
    "\n",
    "    normalize(X_minmaxed, dim=dim)\n",
    "    X_normalized = X_minmaxed\n",
    "\n",
    "    return X_normalized"
   ]
  },
  {
   "cell_type": "code",
   "execution_count": 24,
   "metadata": {},
   "outputs": [],
   "source": [
    "X_train = convert_and_normalize_input(X_train, dtype=torch.float64, device=device)\n",
    "X_test = convert_and_normalize_input(X_test, dtype=torch.float64, device=device)"
   ]
  },
  {
   "cell_type": "code",
   "execution_count": 25,
   "metadata": {},
   "outputs": [
    {
     "data": {
      "text/plain": [
       "tensor([[-0.4241, -0.4241, -0.4241,  ..., -0.4241, -0.4241, -0.4241],\n",
       "        [-0.4241, -0.4241, -0.4241,  ..., -0.4241, -0.4241, -0.4241],\n",
       "        [-0.4241, -0.4241, -0.4241,  ..., -0.4241, -0.4241, -0.4241],\n",
       "        ...,\n",
       "        [-0.4241, -0.4241, -0.4241,  ..., -0.4241, -0.4241, -0.4241],\n",
       "        [-0.4241, -0.4241, -0.4241,  ..., -0.4241, -0.4241, -0.4241],\n",
       "        [-0.4241, -0.4241, -0.4241,  ..., -0.4241, -0.4241, -0.4241]],\n",
       "       device='cuda:0', dtype=torch.float64)"
      ]
     },
     "execution_count": 25,
     "metadata": {},
     "output_type": "execute_result"
    }
   ],
   "source": [
    "X_train"
   ]
  },
  {
   "cell_type": "code",
   "execution_count": 26,
   "metadata": {},
   "outputs": [
    {
     "data": {
      "text/plain": [
       "torch.Size([60000, 784])"
      ]
     },
     "execution_count": 26,
     "metadata": {},
     "output_type": "execute_result"
    }
   ],
   "source": [
    "X_train.shape"
   ]
  },
  {
   "cell_type": "code",
   "execution_count": 27,
   "metadata": {},
   "outputs": [
    {
     "data": {
      "text/plain": [
       "torch.Size([10000, 784])"
      ]
     },
     "execution_count": 27,
     "metadata": {},
     "output_type": "execute_result"
    }
   ],
   "source": [
    "X_test.shape"
   ]
  },
  {
   "cell_type": "code",
   "execution_count": 28,
   "metadata": {},
   "outputs": [],
   "source": [
    "def labels_to_onehot(Y, device=None):\n",
    "    return torch.tensor(Y, dtype=torch.uint8, device=device).eq(torch.arange(0, 10, dtype=torch.uint8, device=device))"
   ]
  },
  {
   "cell_type": "code",
   "execution_count": 29,
   "metadata": {},
   "outputs": [],
   "source": [
    "Y_train = labels_to_onehot(y_train, device=device)\n",
    "Y_train.data = Y_train.data.type(torch.float64)\n",
    "Y_test = labels_to_onehot(y_test, device=device)\n",
    "Y_test.data = Y_test.data.type(torch.float64)"
   ]
  },
  {
   "cell_type": "code",
   "execution_count": null,
   "metadata": {},
   "outputs": [],
   "source": []
  },
  {
   "cell_type": "code",
   "execution_count": 30,
   "metadata": {},
   "outputs": [],
   "source": [
    "epsilon = 0.01\n",
    "\n",
    "w1 = torch.tensor(torch.rand(100, X_train.shape[1], dtype=torch.float64) * 2 * epsilon - epsilon, device=device, requires_grad=True)\n",
    "b1 = torch.tensor(torch.rand(100, 1, dtype=torch.float64) * 2 * epsilon - epsilon, device=device, requires_grad=True)\n",
    "w2 = torch.tensor(torch.rand(10, w1.shape[0], dtype=torch.float64) * 2 * epsilon - epsilon, device=device, requires_grad=True)\n",
    "b2 = torch.tensor(torch.rand(10, 1, dtype=torch.float64) * 2 * epsilon - epsilon, device=device, requires_grad=True)"
   ]
  },
  {
   "cell_type": "code",
   "execution_count": 31,
   "metadata": {},
   "outputs": [
    {
     "data": {
      "text/plain": [
       "tensor([[ 0.0046, -0.0096,  0.0027,  ...,  0.0068,  0.0040, -0.0074],\n",
       "        [-0.0097,  0.0047,  0.0099,  ..., -0.0017, -0.0010, -0.0098],\n",
       "        [ 0.0050,  0.0028,  0.0087,  ..., -0.0079, -0.0042,  0.0091],\n",
       "        ...,\n",
       "        [ 0.0072,  0.0092, -0.0049,  ..., -0.0030, -0.0055, -0.0046],\n",
       "        [-0.0042,  0.0074, -0.0079,  ...,  0.0029,  0.0086,  0.0019],\n",
       "        [ 0.0020, -0.0030, -0.0096,  ..., -0.0093, -0.0005, -0.0003]],\n",
       "       device='cuda:0', dtype=torch.float64, requires_grad=True)"
      ]
     },
     "execution_count": 31,
     "metadata": {},
     "output_type": "execute_result"
    }
   ],
   "source": [
    "w1"
   ]
  },
  {
   "cell_type": "code",
   "execution_count": 123,
   "metadata": {},
   "outputs": [],
   "source": [
    "def predict(probs, one_hot=False):\n",
    "    preds = torch.tensor(probs.argmax(dim=1).reshape((-1, 1)), dtype=torch.uint8, device=probs.device)\n",
    "\n",
    "    if one_hot is True:\n",
    "        preds.data = preds.eq(torch.arange(0, 10, dtype=torch.uint8, device=probs.device))\n",
    "\n",
    "    return preds\n",
    "\n",
    "\n",
    "def accuracy_score(pred, true):\n",
    "    assert len(pred) == len(true)\n",
    "\n",
    "    pred = pred.cuda().argmax(dim=1)\n",
    "    true = true.cuda().argmax(dim=1)\n",
    "\n",
    "    accuracy = pred.eq(true).sum(dtype=pred.dtype).item() / float(len(true))\n",
    "\n",
    "    return accuracy\n",
    "\n",
    "\n",
    "def reset(tensors, e=0.01):\n",
    "    for tensor in tensors:\n",
    "        tensor.data = torch.tensor(torch.rand(tensor.size(), dtype=tensor.dtype, device=tensor.device) * 2 * e - e)\n",
    "\n",
    "\n",
    "def feedforward(input_data, weight_matrices, biase_matrices=None):\n",
    "    assert biase_matrices is None or len(weight_matrices) == len(biase_matrices)\n",
    "    \n",
    "    output = input_data.clone()\n",
    "    \n",
    "    for n, weights in enumerate(weight_matrices):\n",
    "        output = output.mm(weights.t())\n",
    "        if biase_matrices is not None:\n",
    "            output = output + biase_matrices[n].t()\n",
    "        output = torch.sigmoid(output)\n",
    "    \n",
    "    return output\n",
    "\n",
    "def binary_class_cross_entropy_loss(pred, true, per_example=False):\n",
    "    assert len(pred) == len(true)\n",
    "    \n",
    "    loss = torch.sum(-true * torch.log(pred) - (1 - true) * torch.log(1 - pred), dim=1, dtype=pred.dtype)\n",
    "    if per_example is False:\n",
    "        loss = loss.sum() / len(true)\n",
    "        if loss.item() != loss.item(): # if the result is nan (probably due to 0 value inside log functions)\n",
    "            loss = torch.sum(-true * torch.log(pred + 1e-12) - (1 - true) * torch.log(1 - pred + 1e-12), dtype=pred.dtype)\n",
    "    \n",
    "    return loss\n",
    "\n",
    "\n",
    "def regularization_loss(weight_matrices, regular_coef, n_examples):\n",
    "    loss = (regular_coef / (2 * n_examples)) * sum([weights.pow(2).sum() for weights in weight_matrices])\n",
    "    return loss"
   ]
  },
  {
   "cell_type": "code",
   "execution_count": 33,
   "metadata": {},
   "outputs": [],
   "source": [
    "def loss_function(prob, true, weight_matrices, regular_coef, n_examples):\n",
    "    return binary_class_cross_entropy_loss(prob, true) + regularization_loss(weight_matrices, regular_coef, n_examples)"
   ]
  },
  {
   "cell_type": "code",
   "execution_count": 35,
   "metadata": {},
   "outputs": [],
   "source": [
    "# Set up logs\n",
    "train_loss_history = []\n",
    "train_acc_history = []\n",
    "test_loss_history = []\n",
    "test_acc_history = []"
   ]
  },
  {
   "cell_type": "code",
   "execution_count": 36,
   "metadata": {},
   "outputs": [],
   "source": [
    "# Bundle the weights and biases into two separate lists so that I can use them for my functions\n",
    "weights = [w1, w2]\n",
    "biases = [b1, b2]"
   ]
  },
  {
   "cell_type": "code",
   "execution_count": 127,
   "metadata": {},
   "outputs": [],
   "source": [
    "# Hyperparameters\n",
    "epoch = 1000\n",
    "lambda_term = 1\n",
    "learning_rate = 2.0"
   ]
  },
  {
   "cell_type": "code",
   "execution_count": 128,
   "metadata": {
    "scrolled": true
   },
   "outputs": [
    {
     "name": "stdout",
     "output_type": "stream",
     "text": [
      "\n",
      "Iteration 10\n",
      "[Training Loss = 0.066704\tTraining Accuracy = 0.997333]\n",
      "[Test Loss = 0.168912\t\tTest Accuracy = 0.976100]\n",
      "\n",
      "Iteration 20\n",
      "[Training Loss = 0.066499\tTraining Accuracy = 0.997350]\n",
      "[Test Loss = 0.168892\t\tTest Accuracy = 0.976100]\n",
      "\n",
      "Iteration 30\n",
      "[Training Loss = 0.066295\tTraining Accuracy = 0.997383]\n",
      "[Test Loss = 0.168872\t\tTest Accuracy = 0.976100]\n",
      "\n",
      "Iteration 40\n",
      "[Training Loss = 0.066093\tTraining Accuracy = 0.997417]\n",
      "[Test Loss = 0.168853\t\tTest Accuracy = 0.976200]\n",
      "\n",
      "Iteration 50\n",
      "[Training Loss = 0.065892\tTraining Accuracy = 0.997417]\n",
      "[Test Loss = 0.168835\t\tTest Accuracy = 0.976200]\n",
      "\n",
      "Iteration 60\n",
      "[Training Loss = 0.065693\tTraining Accuracy = 0.997450]\n",
      "[Test Loss = 0.168817\t\tTest Accuracy = 0.976100]\n",
      "\n",
      "Iteration 70\n",
      "[Training Loss = 0.065496\tTraining Accuracy = 0.997483]\n",
      "[Test Loss = 0.168800\t\tTest Accuracy = 0.976100]\n",
      "\n",
      "Iteration 80\n",
      "[Training Loss = 0.065301\tTraining Accuracy = 0.997500]\n",
      "[Test Loss = 0.168784\t\tTest Accuracy = 0.976100]\n",
      "\n",
      "Iteration 90\n",
      "[Training Loss = 0.065107\tTraining Accuracy = 0.997517]\n",
      "[Test Loss = 0.168768\t\tTest Accuracy = 0.976200]\n",
      "\n",
      "Iteration 100\n",
      "[Training Loss = 0.064915\tTraining Accuracy = 0.997533]\n",
      "[Test Loss = 0.168753\t\tTest Accuracy = 0.976200]\n",
      "\n",
      "Iteration 110\n",
      "[Training Loss = 0.064724\tTraining Accuracy = 0.997533]\n",
      "[Test Loss = 0.168738\t\tTest Accuracy = 0.976200]\n",
      "\n",
      "Iteration 120\n",
      "[Training Loss = 0.064536\tTraining Accuracy = 0.997567]\n",
      "[Test Loss = 0.168724\t\tTest Accuracy = 0.976200]\n",
      "\n",
      "Iteration 130\n",
      "[Training Loss = 0.064348\tTraining Accuracy = 0.997567]\n",
      "[Test Loss = 0.168711\t\tTest Accuracy = 0.976300]\n",
      "\n",
      "Iteration 140\n",
      "[Training Loss = 0.064162\tTraining Accuracy = 0.997583]\n",
      "[Test Loss = 0.168698\t\tTest Accuracy = 0.976300]\n",
      "\n",
      "Iteration 150\n",
      "[Training Loss = 0.063978\tTraining Accuracy = 0.997600]\n",
      "[Test Loss = 0.168685\t\tTest Accuracy = 0.976200]\n",
      "\n",
      "Iteration 160\n",
      "[Training Loss = 0.063796\tTraining Accuracy = 0.997617]\n",
      "[Test Loss = 0.168674\t\tTest Accuracy = 0.976300]\n",
      "\n",
      "Iteration 170\n",
      "[Training Loss = 0.063614\tTraining Accuracy = 0.997700]\n",
      "[Test Loss = 0.168662\t\tTest Accuracy = 0.976200]\n",
      "\n",
      "Iteration 180\n",
      "[Training Loss = 0.063435\tTraining Accuracy = 0.997733]\n",
      "[Test Loss = 0.168652\t\tTest Accuracy = 0.976200]\n",
      "\n",
      "Iteration 190\n",
      "[Training Loss = 0.063256\tTraining Accuracy = 0.997767]\n",
      "[Test Loss = 0.168641\t\tTest Accuracy = 0.976300]\n",
      "\n",
      "Iteration 200\n",
      "[Training Loss = 0.063080\tTraining Accuracy = 0.997817]\n",
      "[Test Loss = 0.168632\t\tTest Accuracy = 0.976300]\n",
      "\n",
      "Iteration 210\n",
      "[Training Loss = 0.062904\tTraining Accuracy = 0.997850]\n",
      "[Test Loss = 0.168623\t\tTest Accuracy = 0.976400]\n",
      "\n",
      "Iteration 220\n",
      "[Training Loss = 0.062731\tTraining Accuracy = 0.997850]\n",
      "[Test Loss = 0.168614\t\tTest Accuracy = 0.976400]\n",
      "\n",
      "Iteration 230\n",
      "[Training Loss = 0.062558\tTraining Accuracy = 0.997867]\n",
      "[Test Loss = 0.168606\t\tTest Accuracy = 0.976400]\n",
      "\n",
      "Iteration 240\n",
      "[Training Loss = 0.062387\tTraining Accuracy = 0.997883]\n",
      "[Test Loss = 0.168598\t\tTest Accuracy = 0.976500]\n",
      "\n",
      "Iteration 250\n",
      "[Training Loss = 0.062218\tTraining Accuracy = 0.997883]\n",
      "[Test Loss = 0.168591\t\tTest Accuracy = 0.976600]\n",
      "\n",
      "Iteration 260\n",
      "[Training Loss = 0.062049\tTraining Accuracy = 0.997883]\n",
      "[Test Loss = 0.168585\t\tTest Accuracy = 0.976600]\n",
      "\n",
      "Iteration 270\n",
      "[Training Loss = 0.061883\tTraining Accuracy = 0.997900]\n",
      "[Test Loss = 0.168578\t\tTest Accuracy = 0.976600]\n",
      "\n",
      "Iteration 280\n",
      "[Training Loss = 0.061717\tTraining Accuracy = 0.997950]\n",
      "[Test Loss = 0.168573\t\tTest Accuracy = 0.976700]\n",
      "\n",
      "Iteration 290\n",
      "[Training Loss = 0.061553\tTraining Accuracy = 0.997967]\n",
      "[Test Loss = 0.168568\t\tTest Accuracy = 0.976700]\n",
      "\n",
      "Iteration 300\n",
      "[Training Loss = 0.061390\tTraining Accuracy = 0.998000]\n",
      "[Test Loss = 0.168563\t\tTest Accuracy = 0.976700]\n",
      "\n",
      "Iteration 310\n",
      "[Training Loss = 0.061229\tTraining Accuracy = 0.998000]\n",
      "[Test Loss = 0.168559\t\tTest Accuracy = 0.976800]\n",
      "\n",
      "Iteration 320\n",
      "[Training Loss = 0.061069\tTraining Accuracy = 0.998017]\n",
      "[Test Loss = 0.168555\t\tTest Accuracy = 0.976800]\n",
      "\n",
      "Iteration 330\n",
      "[Training Loss = 0.060910\tTraining Accuracy = 0.998017]\n",
      "[Test Loss = 0.168552\t\tTest Accuracy = 0.976900]\n",
      "\n",
      "Iteration 340\n",
      "[Training Loss = 0.060752\tTraining Accuracy = 0.998050]\n",
      "[Test Loss = 0.168549\t\tTest Accuracy = 0.977000]\n",
      "\n",
      "Iteration 350\n",
      "[Training Loss = 0.060596\tTraining Accuracy = 0.998067]\n",
      "[Test Loss = 0.168547\t\tTest Accuracy = 0.977000]\n",
      "\n",
      "Iteration 360\n",
      "[Training Loss = 0.060441\tTraining Accuracy = 0.998117]\n",
      "[Test Loss = 0.168545\t\tTest Accuracy = 0.977000]\n",
      "\n",
      "Iteration 370\n",
      "[Training Loss = 0.060287\tTraining Accuracy = 0.998150]\n",
      "[Test Loss = 0.168543\t\tTest Accuracy = 0.977000]\n",
      "\n",
      "Iteration 380\n",
      "[Training Loss = 0.060134\tTraining Accuracy = 0.998150]\n",
      "[Test Loss = 0.168542\t\tTest Accuracy = 0.977000]\n",
      "\n",
      "Iteration 390\n",
      "[Training Loss = 0.059983\tTraining Accuracy = 0.998167]\n",
      "[Test Loss = 0.168542\t\tTest Accuracy = 0.977200]\n",
      "\n",
      "Iteration 400\n",
      "[Training Loss = 0.059833\tTraining Accuracy = 0.998217]\n",
      "[Test Loss = 0.168541\t\tTest Accuracy = 0.977200]\n",
      "\n",
      "Iteration 410\n",
      "[Training Loss = 0.059684\tTraining Accuracy = 0.998233]\n",
      "[Test Loss = 0.168542\t\tTest Accuracy = 0.977200]\n",
      "\n",
      "Iteration 420\n",
      "[Training Loss = 0.059536\tTraining Accuracy = 0.998233]\n",
      "[Test Loss = 0.168542\t\tTest Accuracy = 0.977200]\n",
      "\n",
      "Iteration 430\n",
      "[Training Loss = 0.059390\tTraining Accuracy = 0.998233]\n",
      "[Test Loss = 0.168543\t\tTest Accuracy = 0.977200]\n",
      "\n",
      "Iteration 440\n",
      "[Training Loss = 0.059244\tTraining Accuracy = 0.998250]\n",
      "[Test Loss = 0.168545\t\tTest Accuracy = 0.977200]\n",
      "\n",
      "Iteration 450\n",
      "[Training Loss = 0.059100\tTraining Accuracy = 0.998317]\n",
      "[Test Loss = 0.168547\t\tTest Accuracy = 0.977200]\n",
      "\n",
      "Iteration 460\n",
      "[Training Loss = 0.058957\tTraining Accuracy = 0.998333]\n",
      "[Test Loss = 0.168549\t\tTest Accuracy = 0.977200]\n",
      "\n",
      "Iteration 470\n",
      "[Training Loss = 0.058815\tTraining Accuracy = 0.998383]\n",
      "[Test Loss = 0.168551\t\tTest Accuracy = 0.977100]\n",
      "\n",
      "Iteration 480\n",
      "[Training Loss = 0.058674\tTraining Accuracy = 0.998400]\n",
      "[Test Loss = 0.168554\t\tTest Accuracy = 0.977100]\n",
      "\n",
      "Iteration 490\n",
      "[Training Loss = 0.058534\tTraining Accuracy = 0.998433]\n",
      "[Test Loss = 0.168558\t\tTest Accuracy = 0.977100]\n",
      "\n",
      "Iteration 500\n",
      "[Training Loss = 0.058395\tTraining Accuracy = 0.998433]\n",
      "[Test Loss = 0.168561\t\tTest Accuracy = 0.977100]\n",
      "\n",
      "Iteration 510\n",
      "[Training Loss = 0.058258\tTraining Accuracy = 0.998433]\n",
      "[Test Loss = 0.168565\t\tTest Accuracy = 0.977100]\n",
      "\n",
      "Iteration 520\n",
      "[Training Loss = 0.058121\tTraining Accuracy = 0.998450]\n",
      "[Test Loss = 0.168570\t\tTest Accuracy = 0.977100]\n",
      "\n",
      "Iteration 530\n",
      "[Training Loss = 0.057986\tTraining Accuracy = 0.998467]\n",
      "[Test Loss = 0.168575\t\tTest Accuracy = 0.977100]\n",
      "\n",
      "Iteration 540\n",
      "[Training Loss = 0.057851\tTraining Accuracy = 0.998483]\n",
      "[Test Loss = 0.168580\t\tTest Accuracy = 0.977100]\n",
      "\n",
      "Iteration 550\n",
      "[Training Loss = 0.057718\tTraining Accuracy = 0.998500]\n",
      "[Test Loss = 0.168585\t\tTest Accuracy = 0.977100]\n",
      "\n",
      "Iteration 560\n",
      "[Training Loss = 0.057585\tTraining Accuracy = 0.998500]\n",
      "[Test Loss = 0.168591\t\tTest Accuracy = 0.977100]\n",
      "\n",
      "Iteration 570\n",
      "[Training Loss = 0.057454\tTraining Accuracy = 0.998500]\n",
      "[Test Loss = 0.168597\t\tTest Accuracy = 0.977100]\n",
      "\n",
      "Iteration 580\n",
      "[Training Loss = 0.057324\tTraining Accuracy = 0.998533]\n",
      "[Test Loss = 0.168604\t\tTest Accuracy = 0.977000]\n",
      "\n",
      "Iteration 590\n",
      "[Training Loss = 0.057194\tTraining Accuracy = 0.998567]\n",
      "[Test Loss = 0.168611\t\tTest Accuracy = 0.977000]\n",
      "\n",
      "Iteration 600\n",
      "[Training Loss = 0.057066\tTraining Accuracy = 0.998600]\n",
      "[Test Loss = 0.168618\t\tTest Accuracy = 0.977000]\n",
      "\n",
      "Iteration 610\n",
      "[Training Loss = 0.056938\tTraining Accuracy = 0.998600]\n",
      "[Test Loss = 0.168625\t\tTest Accuracy = 0.977000]\n",
      "\n",
      "Iteration 620\n",
      "[Training Loss = 0.056812\tTraining Accuracy = 0.998600]\n",
      "[Test Loss = 0.168633\t\tTest Accuracy = 0.977100]\n",
      "\n",
      "Iteration 630\n",
      "[Training Loss = 0.056686\tTraining Accuracy = 0.998617]\n",
      "[Test Loss = 0.168641\t\tTest Accuracy = 0.977100]\n",
      "\n",
      "Iteration 640\n",
      "[Training Loss = 0.056562\tTraining Accuracy = 0.998633]\n",
      "[Test Loss = 0.168649\t\tTest Accuracy = 0.977100]\n",
      "\n",
      "Iteration 650\n",
      "[Training Loss = 0.056438\tTraining Accuracy = 0.998650]\n",
      "[Test Loss = 0.168658\t\tTest Accuracy = 0.977100]\n",
      "\n",
      "Iteration 660\n",
      "[Training Loss = 0.056316\tTraining Accuracy = 0.998650]\n",
      "[Test Loss = 0.168667\t\tTest Accuracy = 0.977000]\n",
      "\n",
      "Iteration 670\n",
      "[Training Loss = 0.056194\tTraining Accuracy = 0.998667]\n",
      "[Test Loss = 0.168676\t\tTest Accuracy = 0.977000]\n",
      "\n",
      "Iteration 680\n",
      "[Training Loss = 0.056073\tTraining Accuracy = 0.998667]\n",
      "[Test Loss = 0.168686\t\tTest Accuracy = 0.977000]\n",
      "\n",
      "Iteration 690\n",
      "[Training Loss = 0.055953\tTraining Accuracy = 0.998700]\n",
      "[Test Loss = 0.168695\t\tTest Accuracy = 0.977100]\n"
     ]
    },
    {
     "name": "stdout",
     "output_type": "stream",
     "text": [
      "\n",
      "Iteration 700\n",
      "[Training Loss = 0.055834\tTraining Accuracy = 0.998733]\n",
      "[Test Loss = 0.168705\t\tTest Accuracy = 0.977100]\n",
      "\n",
      "Iteration 710\n",
      "[Training Loss = 0.055716\tTraining Accuracy = 0.998750]\n",
      "[Test Loss = 0.168716\t\tTest Accuracy = 0.977100]\n",
      "\n",
      "Iteration 720\n",
      "[Training Loss = 0.055598\tTraining Accuracy = 0.998783]\n",
      "[Test Loss = 0.168726\t\tTest Accuracy = 0.977100]\n",
      "\n",
      "Iteration 730\n",
      "[Training Loss = 0.055482\tTraining Accuracy = 0.998800]\n",
      "[Test Loss = 0.168737\t\tTest Accuracy = 0.977100]\n",
      "\n",
      "Iteration 740\n",
      "[Training Loss = 0.055366\tTraining Accuracy = 0.998800]\n",
      "[Test Loss = 0.168748\t\tTest Accuracy = 0.977100]\n",
      "\n",
      "Iteration 750\n",
      "[Training Loss = 0.055252\tTraining Accuracy = 0.998817]\n",
      "[Test Loss = 0.168759\t\tTest Accuracy = 0.977100]\n",
      "\n",
      "Iteration 760\n",
      "[Training Loss = 0.055138\tTraining Accuracy = 0.998817]\n",
      "[Test Loss = 0.168770\t\tTest Accuracy = 0.977000]\n",
      "\n",
      "Iteration 770\n",
      "[Training Loss = 0.055025\tTraining Accuracy = 0.998833]\n",
      "[Test Loss = 0.168782\t\tTest Accuracy = 0.976900]\n",
      "\n",
      "Iteration 780\n",
      "[Training Loss = 0.054913\tTraining Accuracy = 0.998833]\n",
      "[Test Loss = 0.168793\t\tTest Accuracy = 0.976900]\n",
      "\n",
      "Iteration 790\n",
      "[Training Loss = 0.054801\tTraining Accuracy = 0.998833]\n",
      "[Test Loss = 0.168805\t\tTest Accuracy = 0.976900]\n",
      "\n",
      "Iteration 800\n",
      "[Training Loss = 0.054691\tTraining Accuracy = 0.998833]\n",
      "[Test Loss = 0.168817\t\tTest Accuracy = 0.976900]\n",
      "\n",
      "Iteration 810\n",
      "[Training Loss = 0.054581\tTraining Accuracy = 0.998850]\n",
      "[Test Loss = 0.168830\t\tTest Accuracy = 0.976900]\n",
      "\n",
      "Iteration 820\n",
      "[Training Loss = 0.054472\tTraining Accuracy = 0.998883]\n",
      "[Test Loss = 0.168842\t\tTest Accuracy = 0.976800]\n",
      "\n",
      "Iteration 830\n",
      "[Training Loss = 0.054364\tTraining Accuracy = 0.998883]\n",
      "[Test Loss = 0.168855\t\tTest Accuracy = 0.976800]\n",
      "\n",
      "Iteration 840\n",
      "[Training Loss = 0.054257\tTraining Accuracy = 0.998883]\n",
      "[Test Loss = 0.168868\t\tTest Accuracy = 0.976800]\n",
      "\n",
      "Iteration 850\n",
      "[Training Loss = 0.054150\tTraining Accuracy = 0.998883]\n",
      "[Test Loss = 0.168881\t\tTest Accuracy = 0.976800]\n",
      "\n",
      "Iteration 860\n",
      "[Training Loss = 0.054044\tTraining Accuracy = 0.998917]\n",
      "[Test Loss = 0.168894\t\tTest Accuracy = 0.976800]\n",
      "\n",
      "Iteration 870\n",
      "[Training Loss = 0.053939\tTraining Accuracy = 0.998917]\n",
      "[Test Loss = 0.168907\t\tTest Accuracy = 0.976800]\n",
      "\n",
      "Iteration 880\n",
      "[Training Loss = 0.053835\tTraining Accuracy = 0.998917]\n",
      "[Test Loss = 0.168920\t\tTest Accuracy = 0.976800]\n",
      "\n",
      "Iteration 890\n",
      "[Training Loss = 0.053732\tTraining Accuracy = 0.998917]\n",
      "[Test Loss = 0.168934\t\tTest Accuracy = 0.976700]\n",
      "\n",
      "Iteration 900\n",
      "[Training Loss = 0.053629\tTraining Accuracy = 0.998917]\n",
      "[Test Loss = 0.168947\t\tTest Accuracy = 0.976700]\n",
      "\n",
      "Iteration 910\n",
      "[Training Loss = 0.053527\tTraining Accuracy = 0.998917]\n",
      "[Test Loss = 0.168961\t\tTest Accuracy = 0.976700]\n",
      "\n",
      "Iteration 920\n",
      "[Training Loss = 0.053426\tTraining Accuracy = 0.998933]\n",
      "[Test Loss = 0.168975\t\tTest Accuracy = 0.976700]\n",
      "\n",
      "Iteration 930\n",
      "[Training Loss = 0.053325\tTraining Accuracy = 0.998950]\n",
      "[Test Loss = 0.168989\t\tTest Accuracy = 0.976700]\n",
      "\n",
      "Iteration 940\n",
      "[Training Loss = 0.053225\tTraining Accuracy = 0.998967]\n",
      "[Test Loss = 0.169003\t\tTest Accuracy = 0.976700]\n",
      "\n",
      "Iteration 950\n",
      "[Training Loss = 0.053126\tTraining Accuracy = 0.998967]\n",
      "[Test Loss = 0.169018\t\tTest Accuracy = 0.976700]\n",
      "\n",
      "Iteration 960\n",
      "[Training Loss = 0.053028\tTraining Accuracy = 0.998967]\n",
      "[Test Loss = 0.169032\t\tTest Accuracy = 0.976700]\n",
      "\n",
      "Iteration 970\n",
      "[Training Loss = 0.052930\tTraining Accuracy = 0.998967]\n",
      "[Test Loss = 0.169046\t\tTest Accuracy = 0.976700]\n",
      "\n",
      "Iteration 980\n",
      "[Training Loss = 0.052834\tTraining Accuracy = 0.998983]\n",
      "[Test Loss = 0.169061\t\tTest Accuracy = 0.976700]\n",
      "\n",
      "Iteration 990\n",
      "[Training Loss = 0.052737\tTraining Accuracy = 0.999000]\n",
      "[Test Loss = 0.169076\t\tTest Accuracy = 0.976600]\n",
      "\n",
      "Iteration 1000\n",
      "[Training Loss = 0.052642\tTraining Accuracy = 0.999000]\n",
      "[Test Loss = 0.169091\t\tTest Accuracy = 0.976600]\n",
      "\n",
      "Iteration finished\n",
      "Training finished in 1000 iterations\n",
      "\n",
      "Final training loss = 0.052641800478641775\n",
      "Final training accuracy = 0.999\n",
      "\n",
      "Final test loss = 0.16909052995431473\n",
      "Final test accuracy = 0.9766\n"
     ]
    }
   ],
   "source": [
    "tol_loss = 1e-3\n",
    "tol_step = 1e-8\n",
    "reset_params = False\n",
    "\n",
    "if reset_params is True:\n",
    "    reset(weights)\n",
    "    reset(biases)\n",
    "\n",
    "exit_reason = \"\"\n",
    "\n",
    "backups = [{'parameters':[param.clone() for param in (weights + biases)],\n",
    "            'index':len(train_loss_history),\n",
    "            'train_loss':train_loss_history[-1]}]\n",
    "\n",
    "backup_during_training = True\n",
    "n_checkpoint = 10 # backup the parameters and iteration number n_checkpoint times during a full set of iterations\n",
    "\n",
    "checkpoint_interval = epoch // n_checkpoint\n",
    "for iteration in range(epoch):\n",
    "    output = feedforward(X_train, weights, biases)\n",
    "    loss = loss_function(output, Y_train, weights, lambda_term, len(X_train))\n",
    "    \n",
    "    loss.backward()\n",
    "    \n",
    "    for param in (weights + biases):\n",
    "        param.data -= learning_rate * param.grad.data\n",
    "        param.grad.data.zero_()\n",
    "\n",
    "    train_pred = predict(output, one_hot=True)\n",
    "\n",
    "    train_loss_history.append(loss.item())\n",
    "    train_acc_history.append(accuracy_score(train_pred, Y_train))\n",
    "    \n",
    "    \n",
    "    test_prob = feedforward(X_test, weights, biases)\n",
    "    test_pred = predict(test_prob, one_hot=True)\n",
    "\n",
    "    test_loss_history.append(binary_class_cross_entropy_loss(test_prob, Y_test).item())\n",
    "    test_acc_history.append(accuracy_score(test_pred, Y_test))\n",
    "    \n",
    "    if (iteration + 1) % 10 == 0:\n",
    "        print(f\"\\nIteration {iteration + 1}\")\n",
    "        print(f\"[Training Loss = {train_loss_history[-1]:.6f}\\t\"\n",
    "              f\"Training Accuracy = {train_acc_history[-1]:.6f}]\\n\"\n",
    "              f\"[Test Loss = {test_loss_history[-1]:.6f}\\t\\t\"\n",
    "              f\"Test Accuracy = {test_acc_history[-1]:.6f}]\")\n",
    "\n",
    "    if backup_during_training is True and iteration % checkpoint_interval == 0:\n",
    "        backups.append({'parameters':[param.clone() for param in (weights + biases)],\n",
    "                        'index':len(train_loss_history),\n",
    "                        'train_loss':train_loss_history[-1]})\n",
    "\n",
    "\n",
    "    if train_loss_history[-1] < tol_loss:\n",
    "        exit_reason = \"Loss value less than tol_loss value\"\n",
    "        break\n",
    "    \n",
    "    elif len(train_loss_history) > 1 and abs(train_loss_history[-1] - train_loss_history[-2]) < tol_step:\n",
    "        exit_reason = \"Loss value change less than tol_step value\"\n",
    "        break\n",
    "    \n",
    "    elif iteration == (epoch - 1):\n",
    "        exit_reason = \"Iteration finished\"\n",
    "        \n",
    "print(f\"\\n{exit_reason}\")\n",
    "print(f\"Training finished in {iteration + 1} iterations\")\n",
    "print(f\"\\nFinal training loss = {train_loss_history[-1]}\")\n",
    "print(f\"Final training accuracy = {train_acc_history[-1]}\")\n",
    "print(f\"\\nFinal test loss = {test_loss_history[-1]}\")\n",
    "print(f\"Final test accuracy = {test_acc_history[-1]}\")"
   ]
  },
  {
   "cell_type": "code",
   "execution_count": 124,
   "metadata": {},
   "outputs": [
    {
     "data": {
      "text/plain": [
       "[(0, 0.06908725931491116)]"
      ]
     },
     "execution_count": 124,
     "metadata": {},
     "output_type": "execute_result"
    }
   ],
   "source": [
    "list(enumerate([backup['train_loss'] for backup in backups]))"
   ]
  },
  {
   "cell_type": "code",
   "execution_count": 125,
   "metadata": {},
   "outputs": [],
   "source": [
    "are_you_sure_you_want_to_revert = False\n",
    "\n",
    "i = 0\n",
    "\n",
    "if are_you_sure_you_want_to_revert is True:\n",
    "    for n, param in enumerate(weights + biases):\n",
    "        param.data = backups[i]['parameters'][n].data\n",
    "    train_loss_history = train_loss_history[:backups[i]['index']]\n",
    "    train_acc_history = train_acc_history[:backups[i]['index']]\n",
    "    test_loss_history = test_loss_history[:backups[i]['index']]\n",
    "    test_acc_history = test_acc_history[:backups[i]['index']]"
   ]
  },
  {
   "cell_type": "code",
   "execution_count": 129,
   "metadata": {},
   "outputs": [
    {
     "data": {
      "text/plain": [
       "[<matplotlib.lines.Line2D at 0x18b4f50f390>]"
      ]
     },
     "execution_count": 129,
     "metadata": {},
     "output_type": "execute_result"
    },
    {
     "data": {
      "image/png": "[encoded data removed]",
      "text/plain": [
       "<Figure size 432x288 with 1 Axes>"
      ]
     },
     "metadata": {
      "needs_background": "light"
     },
     "output_type": "display_data"
    }
   ],
   "source": [
    "plt.plot(list(range(len(train_loss_history) + 1 - 300, len(train_loss_history) + 1)), train_loss_history[-300:])"
   ]
  },
  {
   "cell_type": "code",
   "execution_count": 130,
   "metadata": {},
   "outputs": [
    {
     "data": {
      "text/plain": [
       "10364"
      ]
     },
     "execution_count": 130,
     "metadata": {},
     "output_type": "execute_result"
    }
   ],
   "source": [
    "len(train_loss_history)"
   ]
  },
  {
   "cell_type": "code",
   "execution_count": 136,
   "metadata": {},
   "outputs": [
    {
     "data": {
      "text/plain": [
       "[21601, 2676, 24798, 8729, 59915]"
      ]
     },
     "execution_count": 136,
     "metadata": {},
     "output_type": "execute_result"
    }
   ],
   "source": [
    "top5_incorrect = binary_class_cross_entropy_loss(feedforward(X_train, weights, biases), Y_train, per_example=True).sort(dim=0, descending=True)[1][:5].cpu().tolist()\n",
    "top5_incorrect"
   ]
  },
  {
   "cell_type": "code",
   "execution_count": 139,
   "metadata": {},
   "outputs": [
    {
     "data": {
      "image/png": "[encoded data removed]",
      "text/plain": [
       "<Figure size 2000x2000 with 5 Axes>"
      ]
     },
     "metadata": {},
     "output_type": "display_data"
    }
   ],
   "source": [
    "fig, axes = plt.subplots(nrows=1, ncols=len(top5_incorrect), figsize=(20, 20), dpi=100)\n",
    "for n, ax in zip(top5_incorrect, axes):\n",
    "    ax.set_xticks([])\n",
    "    ax.set_yticks([])\n",
    "    ax.set_title(y_train[n])\n",
    "    ax.set_xlabel(f\"predicted : {predict(feedforward(X_train[n].unsqueeze(0), weights, biases)).item()}\")\n",
    "    ax.imshow(X_train[n].reshape(28, 28), cmap=\"Greys\")"
   ]
  },
  {
   "cell_type": "code",
   "execution_count": 142,
   "metadata": {},
   "outputs": [],
   "source": [
    "fig.savefig(\"./most_incorrect_5.png\", dpi='figure', orientation='landscape')"
   ]
  },
  {
   "cell_type": "code",
   "execution_count": null,
   "metadata": {},
   "outputs": [],
   "source": []
  },
  {
   "cell_type": "code",
   "execution_count": 143,
   "metadata": {},
   "outputs": [
    {
     "data": {
      "text/plain": [
       "[25221, 19965, 44231, 45327, 28089]"
      ]
     },
     "execution_count": 143,
     "metadata": {},
     "output_type": "execute_result"
    }
   ],
   "source": [
    "top5_correct = binary_class_cross_entropy_loss(feedforward(X_train, weights, biases), Y_train, per_example=True).sort(dim=0, descending=False)[1][:5].cpu().tolist()\n",
    "top5_correct"
   ]
  },
  {
   "cell_type": "code",
   "execution_count": 144,
   "metadata": {},
   "outputs": [
    {
     "data": {
      "image/png": "[encoded data removed]",
      "text/plain": [
       "<Figure size 2000x2000 with 5 Axes>"
      ]
     },
     "metadata": {},
     "output_type": "display_data"
    }
   ],
   "source": [
    "fig, axes = plt.subplots(nrows=1, ncols=len(top5_correct), figsize=(20, 20), dpi=100)\n",
    "for n, ax in zip(top5_correct, axes):\n",
    "    ax.set_xticks([])\n",
    "    ax.set_yticks([])\n",
    "    ax.set_title(y_train[n])\n",
    "    ax.set_xlabel(f\"predicted : {predict(feedforward(X_train[n].unsqueeze(0), weights, biases)).item()}\")\n",
    "    ax.imshow(X_train[n].reshape(28, 28), cmap=\"Greys\")"
   ]
  },
  {
   "cell_type": "code",
   "execution_count": 146,
   "metadata": {},
   "outputs": [],
   "source": [
    "fig.savefig(\"./most_correct_5.png\", dpi='figure', orientation='landscape')"
   ]
  },
  {
   "cell_type": "code",
   "execution_count": null,
   "metadata": {},
   "outputs": [],
   "source": []
  }
 ],
 "metadata": {
  "kernelspec": {
   "display_name": "Python 3",
   "language": "python",
   "name": "python3"
  },
  "language_info": {
   "codemirror_mode": {
    "name": "ipython",
    "version": 3
   },
   "file_extension": ".py",
   "mimetype": "text/x-python",
   "name": "python",
   "nbconvert_exporter": "python",
   "pygments_lexer": "ipython3",
   "version": "3.7.0"
  }
 },
 "nbformat": 4,
 "nbformat_minor": 2
}
