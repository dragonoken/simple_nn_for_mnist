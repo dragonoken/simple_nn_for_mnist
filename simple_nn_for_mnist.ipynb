{
 "cells": [
  {
   "cell_type": "markdown",
   "metadata": {},
   "source": [
    "## Start from importing dataset loading module and numpy for some processing"
   ]
  },
  {
   "cell_type": "code",
   "execution_count": 1,
   "metadata": {
    "scrolled": true
   },
   "outputs": [],
   "source": [
    "from mnist import MNIST\n",
    "import numpy as np"
   ]
  },
  {
   "cell_type": "code",
   "execution_count": 2,
   "metadata": {},
   "outputs": [],
   "source": [
    "# initialize a dataset loader and use gzip files\n",
    "mnist_data = MNIST(path='./samples/', gz=True)"
   ]
  },
  {
   "cell_type": "code",
   "execution_count": 3,
   "metadata": {},
   "outputs": [],
   "source": [
    "train_data = mnist_data.load_training()"
   ]
  },
  {
   "cell_type": "code",
   "execution_count": 4,
   "metadata": {},
   "outputs": [
    {
     "data": {
      "text/plain": [
       "2"
      ]
     },
     "execution_count": 4,
     "metadata": {},
     "output_type": "execute_result"
    }
   ],
   "source": [
    "len(train_data)"
   ]
  },
  {
   "cell_type": "markdown",
   "metadata": {},
   "source": [
    "### The training set contains 60,000 examples"
   ]
  },
  {
   "cell_type": "code",
   "execution_count": 5,
   "metadata": {},
   "outputs": [
    {
     "data": {
      "text/plain": [
       "60000"
      ]
     },
     "execution_count": 5,
     "metadata": {},
     "output_type": "execute_result"
    }
   ],
   "source": [
    "len(train_data[0])"
   ]
  },
  {
   "cell_type": "code",
   "execution_count": 6,
   "metadata": {},
   "outputs": [
    {
     "data": {
      "text/plain": [
       "60000"
      ]
     },
     "execution_count": 6,
     "metadata": {},
     "output_type": "execute_result"
    }
   ],
   "source": [
    "len(train_data[1])"
   ]
  },
  {
   "cell_type": "markdown",
   "metadata": {},
   "source": [
    "### train_data[0] is the input arrays (images)"
   ]
  },
  {
   "cell_type": "code",
   "execution_count": 7,
   "metadata": {},
   "outputs": [
    {
     "data": {
      "text/plain": [
       "784"
      ]
     },
     "execution_count": 7,
     "metadata": {},
     "output_type": "execute_result"
    }
   ],
   "source": [
    "len(train_data[0][0])"
   ]
  },
  {
   "cell_type": "code",
   "execution_count": 8,
   "metadata": {},
   "outputs": [
    {
     "ename": "TypeError",
     "evalue": "object of type 'int' has no len()",
     "output_type": "error",
     "traceback": [
      "\u001b[1;31m---------------------------------------------------------------------------\u001b[0m",
      "\u001b[1;31mTypeError\u001b[0m                                 Traceback (most recent call last)",
      "\u001b[1;32m<ipython-input-8-c1bc6530398e>\u001b[0m in \u001b[0;36m<module>\u001b[1;34m()\u001b[0m\n\u001b[1;32m----> 1\u001b[1;33m \u001b[0mlen\u001b[0m\u001b[1;33m(\u001b[0m\u001b[0mtrain_data\u001b[0m\u001b[1;33m[\u001b[0m\u001b[1;36m1\u001b[0m\u001b[1;33m]\u001b[0m\u001b[1;33m[\u001b[0m\u001b[1;36m0\u001b[0m\u001b[1;33m]\u001b[0m\u001b[1;33m)\u001b[0m \u001b[1;31m# Since train_data[1] is a list of integers, calling len() on integers causes an error\u001b[0m\u001b[1;33m\u001b[0m\u001b[0m\n\u001b[0m",
      "\u001b[1;31mTypeError\u001b[0m: object of type 'int' has no len()"
     ]
    }
   ],
   "source": [
    "len(train_data[1][0]) # Since train_data[1] is a list of integers, calling len() on integers causes an error"
   ]
  },
  {
   "cell_type": "code",
   "execution_count": 9,
   "metadata": {},
   "outputs": [
    {
     "name": "stdout",
     "output_type": "stream",
     "text": [
      "<class 'list'> <class 'array.array'>\n"
     ]
    }
   ],
   "source": [
    "print(type(train_data[0]), type(train_data[1]))"
   ]
  },
  {
   "cell_type": "markdown",
   "metadata": {},
   "source": [
    "### load_training() returns a tuple with two lists: [1] lists of values for data points (60000 lists, each with 784 entries), [2] a list of labels as integers (60000 integers)"
   ]
  },
  {
   "cell_type": "code",
   "execution_count": 10,
   "metadata": {},
   "outputs": [],
   "source": [
    "X_train = np.array(train_data[0])\n",
    "y_train = np.array(train_data[1]).reshape((-1, 1))"
   ]
  },
  {
   "cell_type": "code",
   "execution_count": 11,
   "metadata": {},
   "outputs": [
    {
     "data": {
      "text/plain": [
       "(60000, 784)"
      ]
     },
     "execution_count": 11,
     "metadata": {},
     "output_type": "execute_result"
    }
   ],
   "source": [
    "X_train.shape"
   ]
  },
  {
   "cell_type": "code",
   "execution_count": 12,
   "metadata": {},
   "outputs": [
    {
     "data": {
      "text/plain": [
       "(60000, 1)"
      ]
     },
     "execution_count": 12,
     "metadata": {},
     "output_type": "execute_result"
    }
   ],
   "source": [
    "y_train.shape"
   ]
  },
  {
   "cell_type": "code",
   "execution_count": 13,
   "metadata": {},
   "outputs": [
    {
     "data": {
      "text/plain": [
       "255"
      ]
     },
     "execution_count": 13,
     "metadata": {},
     "output_type": "execute_result"
    }
   ],
   "source": [
    "X_train.max()"
   ]
  },
  {
   "cell_type": "code",
   "execution_count": 14,
   "metadata": {},
   "outputs": [
    {
     "data": {
      "text/plain": [
       "0"
      ]
     },
     "execution_count": 14,
     "metadata": {},
     "output_type": "execute_result"
    }
   ],
   "source": [
    "X_train.min()"
   ]
  },
  {
   "cell_type": "code",
   "execution_count": 15,
   "metadata": {},
   "outputs": [
    {
     "data": {
      "text/plain": [
       "9"
      ]
     },
     "execution_count": 15,
     "metadata": {},
     "output_type": "execute_result"
    }
   ],
   "source": [
    "y_train.max()"
   ]
  },
  {
   "cell_type": "code",
   "execution_count": 16,
   "metadata": {},
   "outputs": [
    {
     "data": {
      "text/plain": [
       "0"
      ]
     },
     "execution_count": 16,
     "metadata": {},
     "output_type": "execute_result"
    }
   ],
   "source": [
    "y_train.min()"
   ]
  },
  {
   "cell_type": "markdown",
   "metadata": {},
   "source": [
    "## Import matplotlib for visualization"
   ]
  },
  {
   "cell_type": "code",
   "execution_count": 17,
   "metadata": {},
   "outputs": [],
   "source": [
    "import matplotlib.pyplot as plt\n",
    "%matplotlib inline"
   ]
  },
  {
   "cell_type": "markdown",
   "metadata": {},
   "source": [
    "# Let's pick 5 random images from the training set!"
   ]
  },
  {
   "cell_type": "code",
   "execution_count": 18,
   "metadata": {},
   "outputs": [
    {
     "data": {
      "image/png": "[encoded data removed]",
      "text/plain": [
       "<Figure size 2000x2000 with 5 Axes>"
      ]
     },
     "metadata": {},
     "output_type": "display_data"
    }
   ],
   "source": [
    "fig, axes = plt.subplots(nrows=1, ncols=5, figsize=(20, 20), dpi=100)\n",
    "for n, ax in zip(np.random.permutation(len(X_train))[:5], axes):\n",
    "    ax.set_xticks([])\n",
    "    ax.set_yticks([])\n",
    "    ax.set_title(\"True Label : \" + str(y_train[n]))\n",
    "    ax.imshow(X_train[n].reshape(28, 28), cmap=\"Greys\")"
   ]
  },
  {
   "cell_type": "markdown",
   "metadata": {},
   "source": [
    "## Now that we checked that the dataset is good, let's load test dataset as well!"
   ]
  },
  {
   "cell_type": "code",
   "execution_count": 19,
   "metadata": {},
   "outputs": [],
   "source": [
    "X_test, y_test = mnist_data.load_testing()\n",
    "X_test = np.array(X_test)\n",
    "y_test = np.array(y_test).reshape(-1, 1)"
   ]
  },
  {
   "cell_type": "markdown",
   "metadata": {},
   "source": [
    "## Import torch for neural networks"
   ]
  },
  {
   "cell_type": "code",
   "execution_count": 20,
   "metadata": {},
   "outputs": [],
   "source": [
    "import torch\n",
    "import torch.nn as nn\n",
    "import torch.nn.functional as F"
   ]
  },
  {
   "cell_type": "markdown",
   "metadata": {},
   "source": [
    "### Use CUDA device if available. Use CPU otherwise"
   ]
  },
  {
   "cell_type": "code",
   "execution_count": 21,
   "metadata": {},
   "outputs": [],
   "source": [
    "device = \"cuda\" if torch.cuda.is_available() else \"cpu\""
   ]
  },
  {
   "cell_type": "markdown",
   "metadata": {},
   "source": [
    "### Input Normalization\n",
    "* currently this doesn't seem to provide any significant improvement in training, so it is defined but not used for now"
   ]
  },
  {
   "cell_type": "code",
   "execution_count": 22,
   "metadata": {},
   "outputs": [],
   "source": [
    "def normalize(input_tensor, dim=None):\n",
    "    if dim is None:\n",
    "        mean = input_tensor.data.mean()\n",
    "        std = input_tensor.data.std()\n",
    "    else:\n",
    "        mean = input_tensor.data.mean(dim=dim)\n",
    "        std = input_tensor.data.std(dim=dim)\n",
    "\n",
    "    input_tensor.data = input_tensor.data - mean # mean of 0\n",
    "    input_tensor.data = input_tensor.data / std.max(torch.tensor(1e-12, dtype=std.dtype, device=std.device)) # standard deviation of 1, prevent division by zero\n",
    "    \n",
    "def convert_and_normalize_input(X, dtype=None, device=None, dim=None):\n",
    "    X_minmaxed = torch.tensor(X / 255, dtype=dtype, device=device)\n",
    "\n",
    "    normalize(X_minmaxed, dim=dim)\n",
    "    X_normalized = X_minmaxed\n",
    "\n",
    "    return X_normalized"
   ]
  },
  {
   "cell_type": "markdown",
   "metadata": {},
   "source": [
    "## Do minmax scaling and transform into torch tensors"
   ]
  },
  {
   "cell_type": "code",
   "execution_count": 23,
   "metadata": {},
   "outputs": [],
   "source": [
    "# X_train = convert_and_normalize_input(X_train, dtype=torch.float64, device=device)\n",
    "# X_test = convert_and_normalize_input(X_test, dtype=torch.float64, device=device)\n",
    "X_train = torch.tensor(X_train / 255, dtype=torch.float64, device=device)\n",
    "X_test = torch.tensor(X_test / 255, dtype=torch.float64, device=device)"
   ]
  },
  {
   "cell_type": "code",
   "execution_count": 24,
   "metadata": {},
   "outputs": [
    {
     "data": {
      "text/plain": [
       "tensor([[0., 0., 0.,  ..., 0., 0., 0.],\n",
       "        [0., 0., 0.,  ..., 0., 0., 0.],\n",
       "        [0., 0., 0.,  ..., 0., 0., 0.],\n",
       "        ...,\n",
       "        [0., 0., 0.,  ..., 0., 0., 0.],\n",
       "        [0., 0., 0.,  ..., 0., 0., 0.],\n",
       "        [0., 0., 0.,  ..., 0., 0., 0.]], device='cuda:0', dtype=torch.float64)"
      ]
     },
     "execution_count": 24,
     "metadata": {},
     "output_type": "execute_result"
    }
   ],
   "source": [
    "X_train"
   ]
  },
  {
   "cell_type": "code",
   "execution_count": 25,
   "metadata": {},
   "outputs": [
    {
     "data": {
      "text/plain": [
       "torch.Size([60000, 784])"
      ]
     },
     "execution_count": 25,
     "metadata": {},
     "output_type": "execute_result"
    }
   ],
   "source": [
    "X_train.shape"
   ]
  },
  {
   "cell_type": "code",
   "execution_count": 26,
   "metadata": {},
   "outputs": [
    {
     "data": {
      "text/plain": [
       "torch.Size([10000, 784])"
      ]
     },
     "execution_count": 26,
     "metadata": {},
     "output_type": "execute_result"
    }
   ],
   "source": [
    "X_test.shape"
   ]
  },
  {
   "cell_type": "markdown",
   "metadata": {},
   "source": [
    "### For classification, we also need to turn the labels to one-hot vectors (vectors each having value 1 for corresponding class and 0 for everything else)"
   ]
  },
  {
   "cell_type": "code",
   "execution_count": 27,
   "metadata": {},
   "outputs": [],
   "source": [
    "def labels_to_onehot(Y, device=None):\n",
    "    return torch.tensor(Y, dtype=torch.uint8, device=device).eq(torch.arange(0, 10, dtype=torch.uint8, device=device))"
   ]
  },
  {
   "cell_type": "code",
   "execution_count": 28,
   "metadata": {},
   "outputs": [],
   "source": [
    "Y_train = labels_to_onehot(y_train, device=device)\n",
    "Y_train.data = Y_train.data.type(torch.float64)\n",
    "Y_test = labels_to_onehot(y_test, device=device)\n",
    "Y_test.data = Y_test.data.type(torch.float64)"
   ]
  },
  {
   "cell_type": "markdown",
   "metadata": {},
   "source": [
    "## For hyperparameter tuning in the future, the training set is randomly devided into 50,000 training examples and 10,000 validation examples"
   ]
  },
  {
   "cell_type": "code",
   "execution_count": 29,
   "metadata": {},
   "outputs": [],
   "source": [
    "# Take out some examples from the training set as the validation set (50000 for training, 10000 for validation)\n",
    "randidx = torch.randperm(len(X_train))\n",
    "X_val = X_train[randidx[:10000]]\n",
    "X_train = X_train[randidx[10000:]]\n",
    "Y_val = Y_train[randidx[:10000]]\n",
    "Y_train = Y_train[randidx[10000:]]"
   ]
  },
  {
   "cell_type": "code",
   "execution_count": 30,
   "metadata": {},
   "outputs": [
    {
     "name": "stdout",
     "output_type": "stream",
     "text": [
      "50000\n",
      "10000\n",
      "50000\n",
      "10000\n"
     ]
    }
   ],
   "source": [
    "print(len(X_train))\n",
    "print(len(X_val))\n",
    "print(len(Y_train))\n",
    "print(len(Y_val))"
   ]
  },
  {
   "cell_type": "markdown",
   "metadata": {},
   "source": [
    "## Initialize weights and biases\n",
    "Two layers - layer1 : (input to hidden) -> layer2 : (hidden to output)"
   ]
  },
  {
   "cell_type": "code",
   "execution_count": 31,
   "metadata": {},
   "outputs": [],
   "source": [
    "epsilon = 0.01\n",
    "\n",
    "w1 = torch.tensor(torch.rand(100, X_train.shape[1], dtype=torch.float64) * 2 * epsilon - epsilon, device=device, requires_grad=True)\n",
    "b1 = torch.tensor(torch.rand(100, 1, dtype=torch.float64) * 2 * epsilon - epsilon, device=device, requires_grad=True)\n",
    "w2 = torch.tensor(torch.rand(10, w1.shape[0], dtype=torch.float64) * 2 * epsilon - epsilon, device=device, requires_grad=True)\n",
    "b2 = torch.tensor(torch.rand(10, 1, dtype=torch.float64) * 2 * epsilon - epsilon, device=device, requires_grad=True)"
   ]
  },
  {
   "cell_type": "code",
   "execution_count": 32,
   "metadata": {},
   "outputs": [
    {
     "data": {
      "text/plain": [
       "tensor([[-0.0010,  0.0075,  0.0079,  ...,  0.0072, -0.0032,  0.0008],\n",
       "        [-0.0050, -0.0070, -0.0094,  ...,  0.0052,  0.0082, -0.0088],\n",
       "        [-0.0097, -0.0068,  0.0011,  ...,  0.0061,  0.0065,  0.0017],\n",
       "        ...,\n",
       "        [ 0.0084, -0.0020, -0.0009,  ..., -0.0093, -0.0071, -0.0083],\n",
       "        [ 0.0057,  0.0076, -0.0029,  ..., -0.0060, -0.0070, -0.0082],\n",
       "        [ 0.0009,  0.0020, -0.0073,  ..., -0.0097, -0.0052,  0.0010]],\n",
       "       device='cuda:0', dtype=torch.float64, requires_grad=True)"
      ]
     },
     "execution_count": 32,
     "metadata": {},
     "output_type": "execute_result"
    }
   ],
   "source": [
    "w1"
   ]
  },
  {
   "cell_type": "markdown",
   "metadata": {},
   "source": [
    "## Useful and necessary functions\n",
    "- re-initializing parameters (4 different methods are available : uniform, standard normal (std can be adjusted), He, and Xavier)\n",
    "- mini-batch sampling (Generater function that yields mini-batch samples every iteration)\n",
    "- feedforward\n",
    "- prediction (Turns raw probability values into prediction labels; integer values)\n",
    "- binary cross entropy loss\n",
    "- L2 regularization loss\n",
    "- loss function (cross entropy + L2 regularization)\n",
    "- accuracy evaluation"
   ]
  },
  {
   "cell_type": "code",
   "execution_count": 33,
   "metadata": {},
   "outputs": [],
   "source": [
    "def reset(tensors, method='uniform', e=0.01):\n",
    "    \"\"\"\n",
    "    re-initialize parameters using the given method\n",
    "    \n",
    "    tensors : 'list' of tensors\n",
    "    method : {'uniform'|'std'|'he'|'xavier'}, default:'uniform'\n",
    "    e : maximum absolute value for 'uniform' | standard deviation for 'std' | ignored otherwise\n",
    "    \"\"\"\n",
    "    method = method.lower()\n",
    "    \n",
    "    if method not in ('uniform', 'std', 'he', 'xavier'):\n",
    "        raise ValueError(\"method must be one of these options : {'uniform'|'std'|'he'|'xavier'}\")\n",
    "    \n",
    "    if method == 'uniform':\n",
    "        for tensor in tensors:\n",
    "            tensor.data = torch.tensor(torch.rand(tensor.size(), dtype=tensor.dtype, device=tensor.device) * 2 * e - e)\n",
    "    elif method == 'std':\n",
    "        for tensor in tensors:\n",
    "            tensor.data = torch.tensor(torch.randn(tensor.size(), dtype=tensor.dtype, device=tensor.device) * e)\n",
    "    elif method == 'he':\n",
    "        for tensor in tensors:\n",
    "            tensor.data = torch.tensor(torch.randn(tensor.size(), dtype=tensor.dtype, device=tensor.device) * torch.sqrt(torch.tensor(2 / tensor.size()[1], dtype=tensor.dtype, device=tensor.device)))\n",
    "    else:\n",
    "        for tensor in tensors:\n",
    "            tensor.data = torch.tensor(torch.randn(tensor.size(), dtype=tensor.dtype, device=tensor.device) * torch.sqrt(torch.tensor(2 / sum(tensor.size()), dtype=tensor.dtype, device=tensor.device)))\n",
    "\n",
    "\n",
    "def mini_batch(X, Y=None, batch_size=100, shuffle=True):\n",
    "    assert Y is None or len(X) == len(Y), \"length of the first dimensions in both matrices must match\"\n",
    "    assert isinstance(batch_size, int), \"the batch size must be an integer\"\n",
    "    \n",
    "    if batch_size > len(X) or batch_size <= 0:\n",
    "        batch_size = len(X)\n",
    "    \n",
    "    n_batches = len(X) // batch_size\n",
    "    \n",
    "    if shuffle is True:\n",
    "        rand_idx = torch.randperm(len(X))\n",
    "        if Y is None:\n",
    "            for batch_idx in range(n_batches):\n",
    "                yield X[rand_idx[batch_size * batch_idx:batch_size * (batch_idx + 1)]]\n",
    "        else:\n",
    "            for batch_idx in range(n_batches):\n",
    "                yield (X[rand_idx[batch_size * batch_idx:batch_size * (batch_idx + 1)]],\n",
    "                       Y[rand_idx[batch_size * batch_idx:batch_size * (batch_idx + 1)]])\n",
    "                \n",
    "    else:\n",
    "        if Y is None:\n",
    "            for batch_idx in range(n_batches):\n",
    "                yield X[batch_size * batch_idx:batch_size * (batch_idx + 1)]\n",
    "        else:\n",
    "            for batch_idx in range(n_batches):\n",
    "                yield (X[batch_size * batch_idx:batch_size * (batch_idx + 1)],\n",
    "                       Y[batch_size * batch_idx:batch_size * (batch_idx + 1)])\n",
    "    \n",
    "\n",
    "def feedforward(input_data, weight_matrices, biase_matrices=None):\n",
    "    assert biase_matrices is None or len(weight_matrices) == len(biase_matrices)\n",
    "    \n",
    "    output = input_data.clone()\n",
    "    \n",
    "    for n, weights in enumerate(weight_matrices):\n",
    "        output = output.mm(weights.t())\n",
    "        if biase_matrices is not None:\n",
    "            output = output + biase_matrices[n].t()\n",
    "        output = torch.sigmoid(output)\n",
    "    \n",
    "    return output\n",
    "\n",
    "\n",
    "def predict(probs, one_hot=False):\n",
    "    preds = torch.tensor(probs.argmax(dim=1).reshape((-1, 1)), dtype=torch.uint8, device=probs.device)\n",
    "\n",
    "    if one_hot is True:\n",
    "        preds.data = preds.eq(torch.arange(0, 10, dtype=torch.uint8, device=probs.device))\n",
    "\n",
    "    return preds\n",
    "\n",
    "\n",
    "def binary_class_cross_entropy_loss(pred, true, per_example=False):\n",
    "    assert len(pred) == len(true)\n",
    "    \n",
    "    loss = torch.sum(-true * torch.log(pred) - (1 - true) * torch.log(1 - pred), dim=1, dtype=pred.dtype)\n",
    "    if per_example is False:\n",
    "        loss = loss.sum() / len(true)\n",
    "        if loss.item() != loss.item(): # if the result is nan (probably due to 0 value inside log functions)\n",
    "            loss = torch.sum(-true * torch.log(pred + 1e-12) - (1 - true) * torch.log(1 - pred + 1e-12), dtype=pred.dtype)\n",
    "    \n",
    "    return loss\n",
    "\n",
    "\n",
    "def regularization_loss(weight_matrices, regular_coef, n_examples):\n",
    "    loss = (regular_coef / (2 * n_examples)) * sum([weights.pow(2).sum() for weights in weight_matrices])\n",
    "    return loss\n",
    "\n",
    "\n",
    "def loss_function(prob, true, weight_matrices, regular_coef, n_examples):\n",
    "    return binary_class_cross_entropy_loss(prob, true) + regularization_loss(weight_matrices, regular_coef, n_examples)\n",
    "\n",
    "\n",
    "def accuracy_score(pred, true):\n",
    "    assert len(pred) == len(true)\n",
    "\n",
    "    pred = pred.cuda().argmax(dim=1)\n",
    "    true = true.cuda().argmax(dim=1)\n",
    "\n",
    "    accuracy = pred.eq(true).sum(dtype=pred.dtype).item() / float(len(true))\n",
    "\n",
    "    return accuracy"
   ]
  },
  {
   "cell_type": "code",
   "execution_count": 34,
   "metadata": {},
   "outputs": [],
   "source": [
    "# Bundle the weights and biases into two separate lists so that I can use them for my functions\n",
    "weights = [w1, w2]\n",
    "biases = [b1, b2]"
   ]
  },
  {
   "cell_type": "markdown",
   "metadata": {},
   "source": [
    "### Here, re-initialize the parameters using He et al initialization"
   ]
  },
  {
   "cell_type": "code",
   "execution_count": 35,
   "metadata": {},
   "outputs": [],
   "source": [
    "reset(weights + biases, method='he')"
   ]
  },
  {
   "cell_type": "markdown",
   "metadata": {},
   "source": [
    "## Setting up logs\n",
    "These will help tracking the progress"
   ]
  },
  {
   "cell_type": "code",
   "execution_count": 36,
   "metadata": {},
   "outputs": [],
   "source": [
    "# Set up logs\n",
    "train_loss_history = []\n",
    "train_acc_history = []\n",
    "val_loss_history = []\n",
    "val_acc_history = []"
   ]
  },
  {
   "cell_type": "markdown",
   "metadata": {},
   "source": [
    "## Finding optimal learning rate\n",
    "From [Cyclical Learning Rates for Training Neural Networks](https://arxiv.org/abs/1506.01186)"
   ]
  },
  {
   "cell_type": "code",
   "execution_count": 37,
   "metadata": {},
   "outputs": [],
   "source": [
    "# Finding the best learning rate\n",
    "def lr_find(X, Y, weight_matrices, bias_matrices, batch_size=100, start_lr=1e-4, end_lr=1.0, n_steps=100, reg_coef=0, reset_method='uniform', e=0.01):\n",
    "    assert start_lr <= end_lr, \"'end_lr' must be greater than or equal to 'start_lr'\"\n",
    "    assert isinstance(n_steps, int) and n_steps >= 0, \"'n_steps' must be an integer value greater than or equal to 0\"\n",
    "    \n",
    "    # Use the clones so that we won't end up messing up with our original weights...\n",
    "    weight_matrices = [weight.clone() for weight in weight_matrices]\n",
    "    bias_matrices = [bias.clone() for bias in bias_matrices]\n",
    "    params = weight_matrices + bias_matrices\n",
    "    reset(params, method=reset_method, e=e)\n",
    "    \n",
    "    # Since cloned tensors are \"edges\", they do not retain gradients by default.\n",
    "    # We have to manually set it\n",
    "    for param in params:\n",
    "        param.retain_grad()\n",
    "\n",
    "    learning_rate = start_lr\n",
    "    lr_history = []\n",
    "    acc_history = []\n",
    "    \n",
    "    lr_diff = end_lr - start_lr\n",
    "    \n",
    "    lr_step_change = lr_diff / n_steps\n",
    "    \n",
    "    report_every_n_steps = n_steps // 10\n",
    "\n",
    "    step_count = 0\n",
    "    \n",
    "    while step_count < n_steps:\n",
    "        for X_batch, Y_batch in mini_batch(X, Y, batch_size=batch_size):\n",
    "            output = feedforward(X, weight_matrices, bias_matrices)\n",
    "            loss = loss_function(output, Y, weight_matrices, reg_coef, len(X))\n",
    "            loss.backward()\n",
    "\n",
    "            for param in params:\n",
    "                param.data -= learning_rate * param.grad.data\n",
    "                param.grad.data.zero_()\n",
    "\n",
    "            lr_history.append(learning_rate)\n",
    "            acc_history.append(accuracy_score(predict(output, one_hot=True), Y))\n",
    "\n",
    "            learning_rate += lr_step_change\n",
    "            \n",
    "            step_count += 1\n",
    "\n",
    "            if step_count % report_every_n_steps == 0:\n",
    "                print(f\"{step_count} step(s) of {n_steps} ...\")\n",
    "            \n",
    "            if step_count >= n_steps:\n",
    "                break\n",
    "    \n",
    "    return (lr_history, acc_history)\n",
    "\n",
    "\n",
    "def lr_plot(lr_list, acc_list, log_scale=False):\n",
    "    if log_scale:\n",
    "        plt.xscale('log')\n",
    "    plt.locator_params(axis='y', nbins=10)\n",
    "    plt.xlabel('learning rate' + ('', '(in log scale)')[bool(log_scale)])\n",
    "    plt.ylabel('accuracy')\n",
    "    plt.grid()\n",
    "    plt.plot(lr_list, acc_list)"
   ]
  },
  {
   "cell_type": "code",
   "execution_count": 38,
   "metadata": {},
   "outputs": [
    {
     "name": "stdout",
     "output_type": "stream",
     "text": [
      "10 step(s) of 100 ...\n",
      "20 step(s) of 100 ...\n",
      "30 step(s) of 100 ...\n",
      "40 step(s) of 100 ...\n",
      "50 step(s) of 100 ...\n",
      "60 step(s) of 100 ...\n",
      "70 step(s) of 100 ...\n",
      "80 step(s) of 100 ...\n",
      "90 step(s) of 100 ...\n",
      "100 step(s) of 100 ...\n",
      "100\n"
     ]
    }
   ],
   "source": [
    "logs = lr_find(X_train, Y_train, weights, biases, batch_size=-1, start_lr=1e-1, end_lr=3.0, n_steps=100, reg_coef=1, reset_method='he')\n",
    "print(len(logs[0]))"
   ]
  },
  {
   "cell_type": "code",
   "execution_count": 39,
   "metadata": {},
   "outputs": [
    {
     "data": {
      "image/png": "[encoded data removed]",
      "text/plain": [
       "<Figure size 432x288 with 1 Axes>"
      ]
     },
     "metadata": {
      "needs_background": "light"
     },
     "output_type": "display_data"
    }
   ],
   "source": [
    "# The entire plot\n",
    "lr_plot(logs[0], logs[1])"
   ]
  },
  {
   "cell_type": "code",
   "execution_count": 40,
   "metadata": {},
   "outputs": [
    {
     "data": {
      "image/png": "[encoded data removed]",
      "text/plain": [
       "<Figure size 432x288 with 1 Axes>"
      ]
     },
     "metadata": {
      "needs_background": "light"
     },
     "output_type": "display_data"
    }
   ],
   "source": [
    "# First quarter\n",
    "lr_plot(logs[0][:len(logs[0])//4], logs[1][:len(logs[0])//4])"
   ]
  },
  {
   "cell_type": "code",
   "execution_count": 41,
   "metadata": {},
   "outputs": [
    {
     "data": {
      "image/png": "[encoded data removed]",
      "text/plain": [
       "<Figure size 432x288 with 1 Axes>"
      ]
     },
     "metadata": {
      "needs_background": "light"
     },
     "output_type": "display_data"
    }
   ],
   "source": [
    "# Second quarter\n",
    "lr_plot(logs[0][len(logs[0])//4:len(logs[0])//2], logs[1][len(logs[0])//4:len(logs[0])//2])"
   ]
  },
  {
   "cell_type": "code",
   "execution_count": 42,
   "metadata": {},
   "outputs": [
    {
     "data": {
      "image/png": "[encoded data removed]",
      "text/plain": [
       "<Figure size 432x288 with 1 Axes>"
      ]
     },
     "metadata": {
      "needs_background": "light"
     },
     "output_type": "display_data"
    }
   ],
   "source": [
    "# Third quarter\n",
    "lr_plot(logs[0][len(logs[0])//2:(len(logs[0])*3)//4], logs[1][len(logs[0])//2:(len(logs[0])*3)//4])"
   ]
  },
  {
   "cell_type": "code",
   "execution_count": 43,
   "metadata": {},
   "outputs": [
    {
     "data": {
      "image/png": "[encoded data removed]",
      "text/plain": [
       "<Figure size 432x288 with 1 Axes>"
      ]
     },
     "metadata": {
      "needs_background": "light"
     },
     "output_type": "display_data"
    }
   ],
   "source": [
    "# Forth quarter\n",
    "lr_plot(logs[0][(len(logs[0])*3)//4:], logs[1][(len(logs[0])*3)//4:])"
   ]
  },
  {
   "cell_type": "markdown",
   "metadata": {},
   "source": [
    "## Let's now set hyperparameters and start training!"
   ]
  },
  {
   "cell_type": "code",
   "execution_count": 44,
   "metadata": {},
   "outputs": [],
   "source": [
    "# Hyperparameters\n",
    "epoch = 100\n",
    "lambda_term = 1\n",
    "learning_rate = 1.0\n",
    "batch_size = -1 # the entire training set"
   ]
  },
  {
   "cell_type": "code",
   "execution_count": 45,
   "metadata": {
    "scrolled": true
   },
   "outputs": [
    {
     "name": "stdout",
     "output_type": "stream",
     "text": [
      "\n",
      "Iteration 1\n",
      "[Training Loss = 10.576928\tTraining Accuracy = 0.085900]\n",
      "[Validation Loss = 19.530082\t\tValidation Accuracy = 0.094200]\n",
      "\n",
      "Iteration 10\n",
      "[Training Loss = 1.552440\tTraining Accuracy = 0.810320]\n",
      "[Validation Loss = 1.490515\t\tValidation Accuracy = 0.818000]\n",
      "\n",
      "Iteration 20\n",
      "[Training Loss = 1.177631\tTraining Accuracy = 0.853340]\n",
      "[Validation Loss = 1.155912\t\tValidation Accuracy = 0.857400]\n",
      "\n",
      "Iteration 30\n",
      "[Training Loss = 1.026702\tTraining Accuracy = 0.869560]\n",
      "[Validation Loss = 1.013786\t\tValidation Accuracy = 0.871500]\n",
      "\n",
      "Iteration 40\n",
      "[Training Loss = 0.936516\tTraining Accuracy = 0.878520]\n",
      "[Validation Loss = 0.926857\t\tValidation Accuracy = 0.880200]\n",
      "\n",
      "Iteration 50\n",
      "[Training Loss = 0.871876\tTraining Accuracy = 0.885140]\n",
      "[Validation Loss = 0.863875\t\tValidation Accuracy = 0.886600]\n",
      "\n",
      "Iteration 60\n",
      "[Training Loss = 0.822291\tTraining Accuracy = 0.889220]\n",
      "[Validation Loss = 0.815160\t\tValidation Accuracy = 0.890000]\n",
      "\n",
      "Iteration 70\n",
      "[Training Loss = 0.783271\tTraining Accuracy = 0.893160]\n",
      "[Validation Loss = 0.776553\t\tValidation Accuracy = 0.893400]\n",
      "\n",
      "Iteration 80\n",
      "[Training Loss = 0.751933\tTraining Accuracy = 0.896300]\n",
      "[Validation Loss = 0.745412\t\tValidation Accuracy = 0.896300]\n",
      "\n",
      "Iteration 90\n",
      "[Training Loss = 0.725982\tTraining Accuracy = 0.899220]\n",
      "[Validation Loss = 0.719592\t\tValidation Accuracy = 0.899500]\n",
      "\n",
      "Iteration 100\n",
      "[Training Loss = 0.703861\tTraining Accuracy = 0.901160]\n",
      "[Validation Loss = 0.697600\t\tValidation Accuracy = 0.901600]\n",
      "\n",
      "Iteration finished\n",
      "Training finished in 100 iterations\n",
      "\n",
      "Final training loss = 0.7038612233182407\n",
      "Final training accuracy = 0.90116\n",
      "\n",
      "Final validation loss = 0.6976004160451648\n",
      "Final validation accuracy = 0.9016\n",
      "\n",
      "Test accuracy = 0.9074\n"
     ]
    }
   ],
   "source": [
    "tol_loss = 1e-3\n",
    "tol_step = 1e-8\n",
    "\n",
    "reset_progress = True\n",
    "\n",
    "initialization = 'he'\n",
    "\n",
    "if reset_progress is True:\n",
    "    reset(weights, method=initialization)\n",
    "    reset(biases, method=initialization)\n",
    "    train_loss_history = []\n",
    "    train_acc_history = []\n",
    "    val_loss_history = []\n",
    "    val_acc_history = []\n",
    "\n",
    "exit_reason = \"\"\n",
    "\n",
    "backups = [{'parameters':[param.clone() for param in (weights + biases)],\n",
    "            'index':len(train_loss_history),\n",
    "            'train_loss':999 if train_loss_history == [] else train_loss_history[-1]}]\n",
    "\n",
    "backup_during_training = True\n",
    "n_checkpoint = 10 # backup the parameters and iteration number n_checkpoint times during a full set of iterations\n",
    "\n",
    "checkpoint_interval = epoch // n_checkpoint\n",
    "for iteration in range(epoch):\n",
    "    batch_losses = []\n",
    "    batch_accs = []\n",
    "    for X_batch, Y_batch in mini_batch(X_train, Y_train, batch_size=batch_size):\n",
    "        output = feedforward(X_batch, weights, biases)\n",
    "        loss = loss_function(output, Y_batch, weights, lambda_term, len(X_batch))\n",
    "\n",
    "        loss.backward()\n",
    "\n",
    "        for param in (weights + biases):\n",
    "            param.data -= learning_rate * param.grad.data\n",
    "            param.grad.data.zero_()\n",
    "\n",
    "        train_pred = predict(output, one_hot=True)\n",
    "        \n",
    "        batch_losses.append(loss.item())\n",
    "        batch_accs.append(accuracy_score(train_pred, Y_batch))\n",
    "\n",
    "    avg_loss = sum(batch_losses) / len(batch_losses)\n",
    "    avg_acc = sum(batch_accs) / len(batch_accs)\n",
    "    train_loss_history.append(avg_loss)\n",
    "    train_acc_history.append(avg_acc)\n",
    "    \n",
    "    val_prob = feedforward(X_val, weights, biases)\n",
    "    val_pred = predict(val_prob, one_hot=True)\n",
    "\n",
    "    val_loss_history.append(binary_class_cross_entropy_loss(val_prob, Y_val).item())\n",
    "    val_acc_history.append(accuracy_score(val_pred, Y_val))\n",
    "    \n",
    "    if (iteration + 1) % 10 == 0 or iteration == 0:\n",
    "        print(f\"\\nIteration {iteration + 1}\")\n",
    "        print(f\"[Training Loss = {train_loss_history[-1]:.6f}\\t\"\n",
    "              f\"Training Accuracy = {train_acc_history[-1]:.6f}]\\n\"\n",
    "              f\"[Validation Loss = {val_loss_history[-1]:.6f}\\t\\t\"\n",
    "              f\"Validation Accuracy = {val_acc_history[-1]:.6f}]\")\n",
    "\n",
    "    if backup_during_training is True and iteration % checkpoint_interval == 0:\n",
    "        backups.append({'parameters':[param.clone() for param in (weights + biases)],\n",
    "                        'index':len(train_loss_history),\n",
    "                        'train_loss':train_loss_history[-1]})\n",
    "\n",
    "\n",
    "    if train_loss_history[-1] < tol_loss:\n",
    "        exit_reason = \"Loss value less than tol_loss value\"\n",
    "        break\n",
    "    \n",
    "    elif len(train_loss_history) > 1 and abs(train_loss_history[-1] - train_loss_history[-2]) < tol_step:\n",
    "        exit_reason = \"Loss value change less than tol_step value\"\n",
    "        break\n",
    "    \n",
    "    elif iteration == (epoch - 1):\n",
    "        exit_reason = \"Iteration finished\"\n",
    "\n",
    "test_accuracy = accuracy_score(feedforward(X_test, weights, biases), Y_test)\n",
    "print(f\"\\n{exit_reason}\")\n",
    "print(f\"Training finished in {iteration + 1} iterations\")\n",
    "print(f\"\\nFinal training loss = {train_loss_history[-1]}\")\n",
    "print(f\"Final training accuracy = {train_acc_history[-1]}\")\n",
    "print(f\"\\nFinal validation loss = {val_loss_history[-1]}\")\n",
    "print(f\"Final validation accuracy = {val_acc_history[-1]}\")\n",
    "print(f\"\\nTest accuracy = {test_accuracy}\")"
   ]
  },
  {
   "cell_type": "markdown",
   "metadata": {},
   "source": [
    "## This part of code is for restoring backed up parameters in case things go crazy"
   ]
  },
  {
   "cell_type": "code",
   "execution_count": 46,
   "metadata": {},
   "outputs": [
    {
     "data": {
      "text/plain": [
       "[(0, 999),\n",
       " (1, 10.57692812843022),\n",
       " (2, 1.488440204116386),\n",
       " (3, 1.1572590906234628),\n",
       " (4, 1.0159514911681007),\n",
       " (5, 0.92915530662628),\n",
       " (6, 0.8663405106058782),\n",
       " (7, 0.8179658126915136),\n",
       " (8, 0.7798347833848581),\n",
       " (9, 0.7491269322344801),\n",
       " (10, 0.7236176306770489)]"
      ]
     },
     "execution_count": 46,
     "metadata": {},
     "output_type": "execute_result"
    }
   ],
   "source": [
    "list(enumerate([backup['train_loss'] for backup in backups]))"
   ]
  },
  {
   "cell_type": "code",
   "execution_count": 47,
   "metadata": {},
   "outputs": [],
   "source": [
    "are_you_sure_you_want_to_revert = False # Are you really really sure??\n",
    "\n",
    "i = 0 # Which backup\n",
    "\n",
    "if are_you_sure_you_want_to_revert is True:\n",
    "    for n, param in enumerate(weights + biases):\n",
    "        param.data = backups[i]['parameters'][n].data\n",
    "    train_loss_history = train_loss_history[:backups[i]['index']]\n",
    "    train_acc_history = train_acc_history[:backups[i]['index']]\n",
    "    val_loss_history = val_loss_history[:backups[i]['index']]\n",
    "    val_acc_history = val_acc_history[:backups[i]['index']]"
   ]
  },
  {
   "cell_type": "markdown",
   "metadata": {},
   "source": [
    "---\n",
    "## Plot the training loss over iterations"
   ]
  },
  {
   "cell_type": "code",
   "execution_count": 48,
   "metadata": {},
   "outputs": [
    {
     "data": {
      "image/png": "[encoded data removed]",
      "text/plain": [
       "<Figure size 432x288 with 1 Axes>"
      ]
     },
     "metadata": {
      "needs_background": "light"
     },
     "output_type": "display_data"
    }
   ],
   "source": [
    "plt.plot(range(1, len(train_loss_history) + 1), train_loss_history)\n",
    "plt.grid()\n",
    "plt.title(\"Train Loss Over Iteration\")\n",
    "plt.xlabel(\"Iteration\")\n",
    "plt.ylabel(\"Loss\")\n",
    "plt.xlim(0, None)\n",
    "plt.ylim(0, None);"
   ]
  },
  {
   "cell_type": "code",
   "execution_count": 49,
   "metadata": {},
   "outputs": [
    {
     "data": {
      "text/plain": [
       "100"
      ]
     },
     "execution_count": 49,
     "metadata": {},
     "output_type": "execute_result"
    }
   ],
   "source": [
    "len(train_loss_history)"
   ]
  },
  {
   "cell_type": "markdown",
   "metadata": {},
   "source": [
    "### Looks good!\n",
    "## Let's see the examples that it performs well and those that it does poorly"
   ]
  },
  {
   "cell_type": "code",
   "execution_count": 50,
   "metadata": {},
   "outputs": [],
   "source": [
    "loss_sorted = binary_class_cross_entropy_loss(feedforward(X_train, weights, biases), Y_train, per_example=True).sort(dim=0)\n",
    "top5_highloss = (loss_sorted[0][-5:], loss_sorted[1][-5:])\n",
    "top5_lowloss = (loss_sorted[0][:5], loss_sorted[1][:5])"
   ]
  },
  {
   "cell_type": "code",
   "execution_count": 51,
   "metadata": {},
   "outputs": [
    {
     "data": {
      "image/png": "[encoded data removed]",
      "text/plain": [
       "<Figure size 2000x2000 with 5 Axes>"
      ]
     },
     "metadata": {},
     "output_type": "display_data"
    }
   ],
   "source": [
    "fig, axes = plt.subplots(nrows=1, ncols=len(top5_highloss[1]), figsize=(20, 20), dpi=100)\n",
    "for loss, idx, ax in zip(top5_highloss[0], top5_highloss[1], axes):\n",
    "    ax.set_xticks([])\n",
    "    ax.set_yticks([])\n",
    "    ax.set_title(f\"true : {Y_train[idx].argmax()}\")\n",
    "    ax.set_xlabel(f\"predicted : {predict(feedforward(X_train[idx].unsqueeze(0), weights, biases)).item()}\\n\"\n",
    "                  f\"loss : {loss}\")\n",
    "    ax.imshow(X_train[idx].reshape(28, 28), cmap=\"Greys\")"
   ]
  },
  {
   "cell_type": "code",
   "execution_count": 52,
   "metadata": {},
   "outputs": [
    {
     "data": {
      "image/png": "[encoded data removed]",
      "text/plain": [
       "<Figure size 2000x2000 with 5 Axes>"
      ]
     },
     "metadata": {},
     "output_type": "display_data"
    }
   ],
   "source": [
    "fig, axes = plt.subplots(nrows=1, ncols=len(top5_lowloss[1]), figsize=(20, 20), dpi=100)\n",
    "for loss, idx, ax in zip(top5_lowloss[0], top5_lowloss[1], axes):\n",
    "    ax.set_xticks([])\n",
    "    ax.set_yticks([])\n",
    "    ax.set_title(f\"true : {Y_train[idx].argmax()}\")\n",
    "    ax.set_xlabel(f\"predicted : {predict(feedforward(X_train[idx].unsqueeze(0), weights, biases)).item()}\\n\"\n",
    "                  f\"loss : {loss}\")\n",
    "    ax.imshow(X_train[idx].reshape(28, 28), cmap=\"Greys\")"
   ]
  },
  {
   "cell_type": "markdown",
   "metadata": {},
   "source": [
    "### Interestingly, it got really good at classifying few specific digits!"
   ]
  },
  {
   "cell_type": "markdown",
   "metadata": {},
   "source": [
    "---\n",
    "## Making the training process into a function so that it can be used in different contexts\n",
    "* (WIP)!"
   ]
  },
  {
   "cell_type": "code",
   "execution_count": null,
   "metadata": {},
   "outputs": [],
   "source": [
    "def train(X_train, Y_train, weight_matrices, bias_matrices=None, X_val=None, Y_val=None, X_test=None, Y_test=None,\n",
    "          epoch=100, learning_rate=1.0, reg_coef=0,\n",
    "          report_interval=10, reset_progress=False,\n",
    "          tol_loss=1e-3, tol_step = 1e-8,\n",
    "          logs=[[],[],[],[]], backups=[], n_backups=0):\n",
    "\n",
    "    assert bias_matrices is None or len(weight_matrices) == len(bias_matrices), \"The number of weights and biases must match\"\n",
    "    assert isinstance(report_interval, int), \"The reporting interval must be an integer value, but {type(report_interval)} received\"\n",
    "    assert isinstance(n_backups, int), f\"The number of backups must be an integer value, but {type(n_backups)} received\"\n",
    "    \n",
    "    train_loss_history = logs[0]\n",
    "    train_acc_history = logs[1]\n",
    "    val_loss_history = logs[2]\n",
    "    val_acc_history = logs[3]\n",
    "    \n",
    "    params = weight_matrices + bias_matrices if bias_matrices is not None else weight_matrices\n",
    "    \n",
    "    if reset_progress is True:\n",
    "        reset(weight_matrices)\n",
    "        if bias_matrices is not None:\n",
    "            reset(bias_matrices)\n",
    "        train_loss_history.clear()\n",
    "        train_acc_history.clear()\n",
    "        val_loss_history.clear()\n",
    "        val_acc_history.clear()\n",
    "\n",
    "    exit_reason = \"\"\n",
    "    \n",
    "    if report_interval <= 0:\n",
    "        report_interval = epoch + 1\n",
    "\n",
    "    backup_during_training = True if n_backups > 0 else False\n",
    "    if backup_during_training:\n",
    "        backup_interval = epoch // n_backups # backup the parameters, iteration number(starting from 1), and train loss for 'n_backups' times during a full set of iterations\n",
    "        backups.append({'weights':[weight.data.clone() for weight in weight_matrices],\n",
    "                        'biases':[bias.data.clone() for bias in (bias_matrices if bias_matrices is not None else [])],\n",
    "                        'index':len(train_loss_history),\n",
    "                        'train_loss':999 if train_loss_history == [] else train_loss_history[-1]})\n",
    "        \n",
    "    for iteration in range(epoch):\n",
    "        output = feedforward(X_train, weight_matrices, bias_matrices)\n",
    "        loss = loss_function(output, Y_train, weight_matrices, reg_coef, len(X_train))\n",
    "\n",
    "        loss.backward()\n",
    "\n",
    "        for param in ():\n",
    "            param.data -= learning_rate * param.grad.data\n",
    "            param.grad.data.zero_()\n",
    "\n",
    "        train_pred = predict(output, one_hot=True)\n",
    "\n",
    "        train_loss_history.append(loss.item())\n",
    "        train_acc_history.append(accuracy_score(train_pred, Y_train))\n",
    "\n",
    "        if X_val is not None and Y_val is not None:\n",
    "            val_prob = feedforward(X_val, weights, biases)\n",
    "            val_pred = predict(val_prob, one_hot=True)\n",
    "\n",
    "            val_loss_history.append(binary_class_cross_entropy_loss(val_prob, Y_val).item())\n",
    "            val_acc_history.append(accuracy_score(val_pred, Y_val))\n",
    "\n",
    "        if (iteration + 1) % report_interval == 0:\n",
    "            print(f\"\\nIteration {iteration + 1}\")\n",
    "            print(f\"[Training Loss = {train_loss_history[-1]:.6f}\\t\"\n",
    "                  f\"Training Accuracy = {train_acc_history[-1]:.6f}]\")\n",
    "                if X_val is not None and Y_val is not None:\n",
    "                    print(f\"[Validation Loss = {val_loss_history[-1]:.6f}\\t\\t\"\n",
    "                          f\"Validation Accuracy = {val_acc_history[-1]:.6f}]\")\n",
    "\n",
    "        if backup_during_training is True and iteration % checkpoint_interval == 0:\n",
    "            backups.append({'parameters':[param.clone() for param in (weights + biases)],\n",
    "                            'index':len(train_loss_history),\n",
    "                            'train_loss':train_loss_history[-1]})\n",
    "\n",
    "\n",
    "        if train_loss_history[-1] < tol_loss:\n",
    "            exit_reason = \"Loss value less than tol_loss value\"\n",
    "            break\n",
    "\n",
    "        elif len(train_loss_history) > 1 and abs(train_loss_history[-1] - train_loss_history[-2]) < tol_step:\n",
    "            exit_reason = \"Loss value change less than tol_step value\"\n",
    "            break\n",
    "\n",
    "        elif iteration == (epoch - 1):\n",
    "            exit_reason = \"Iteration finished\"\n",
    "\n",
    "    print(f\"\\n{exit_reason}\")\n",
    "    print(f\"Training finished in {iteration + 1} iterations\")\n",
    "    print(f\"\\nFinal training loss = {train_loss_history[-1]}\")\n",
    "    print(f\"Final training accuracy = {train_acc_history[-1]}\")\n",
    "    if X_val is not None and Y_val is not None:\n",
    "        print(f\"\\nFinal validation loss = {val_loss_history[-1]}\")\n",
    "        print(f\"Final validation accuracy = {val_loss_history[-1]}\")\n",
    "    if X_test is not None and Y_test is not None:\n",
    "        test_accuracy = accuracy_score(feedforward(X_test, weight_matrices, bias_matrices), Y_test)\n",
    "        print(f\"\\nTest accuracy = {test_accuracy}\")"
   ]
  }
 ],
 "metadata": {
  "kernelspec": {
   "display_name": "Python 3",
   "language": "python",
   "name": "python3"
  },
  "language_info": {
   "codemirror_mode": {
    "name": "ipython",
    "version": 3
   },
   "file_extension": ".py",
   "mimetype": "text/x-python",
   "name": "python",
   "nbconvert_exporter": "python",
   "pygments_lexer": "ipython3",
   "version": "3.7.0"
  }
 },
 "nbformat": 4,
 "nbformat_minor": 2
}
