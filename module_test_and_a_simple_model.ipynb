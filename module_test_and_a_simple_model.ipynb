{
 "cells": [
  {
   "cell_type": "code",
   "execution_count": 1,
   "metadata": {
    "scrolled": true
   },
   "outputs": [],
   "source": [
    "from mnist import MNIST\n",
    "import numpy as np"
   ]
  },
  {
   "cell_type": "code",
   "execution_count": 2,
   "metadata": {},
   "outputs": [],
   "source": [
    "mnist_data = MNIST(path='./samples/', gz=True)"
   ]
  },
  {
   "cell_type": "code",
   "execution_count": 3,
   "metadata": {},
   "outputs": [],
   "source": [
    "train_data = mnist_data.load_training()"
   ]
  },
  {
   "cell_type": "code",
   "execution_count": 4,
   "metadata": {},
   "outputs": [
    {
     "data": {
      "text/plain": [
       "2"
      ]
     },
     "execution_count": 4,
     "metadata": {},
     "output_type": "execute_result"
    }
   ],
   "source": [
    "len(train_data)"
   ]
  },
  {
   "cell_type": "code",
   "execution_count": 5,
   "metadata": {},
   "outputs": [
    {
     "data": {
      "text/plain": [
       "60000"
      ]
     },
     "execution_count": 5,
     "metadata": {},
     "output_type": "execute_result"
    }
   ],
   "source": [
    "len(train_data[0])"
   ]
  },
  {
   "cell_type": "code",
   "execution_count": 6,
   "metadata": {},
   "outputs": [
    {
     "data": {
      "text/plain": [
       "60000"
      ]
     },
     "execution_count": 6,
     "metadata": {},
     "output_type": "execute_result"
    }
   ],
   "source": [
    "len(train_data[1])"
   ]
  },
  {
   "cell_type": "code",
   "execution_count": 7,
   "metadata": {},
   "outputs": [
    {
     "data": {
      "text/plain": [
       "784"
      ]
     },
     "execution_count": 7,
     "metadata": {},
     "output_type": "execute_result"
    }
   ],
   "source": [
    "len(train_data[0][0])"
   ]
  },
  {
   "cell_type": "code",
   "execution_count": 8,
   "metadata": {},
   "outputs": [],
   "source": [
    "#len(train_data[1][0]) # Since train_data[1] is a list of integers, calling len() on integers causes an error"
   ]
  },
  {
   "cell_type": "code",
   "execution_count": 9,
   "metadata": {},
   "outputs": [
    {
     "name": "stdout",
     "output_type": "stream",
     "text": [
      "<class 'list'> <class 'array.array'>\n"
     ]
    }
   ],
   "source": [
    "print(type(train_data[0]), type(train_data[1]))"
   ]
  },
  {
   "cell_type": "markdown",
   "metadata": {},
   "source": [
    "load_training returns a tuple with two lists: first one containing lists of values for data points (60000 lists, each with 784 entries), and second one is a list of labels as integers (60000 integers)"
   ]
  },
  {
   "cell_type": "code",
   "execution_count": 10,
   "metadata": {},
   "outputs": [],
   "source": [
    "X_train = np.array(train_data[0])\n",
    "y_train = np.array(train_data[1]).reshape((-1, 1))"
   ]
  },
  {
   "cell_type": "code",
   "execution_count": 11,
   "metadata": {},
   "outputs": [
    {
     "data": {
      "text/plain": [
       "(60000, 784)"
      ]
     },
     "execution_count": 11,
     "metadata": {},
     "output_type": "execute_result"
    }
   ],
   "source": [
    "X_train.shape"
   ]
  },
  {
   "cell_type": "code",
   "execution_count": 12,
   "metadata": {},
   "outputs": [
    {
     "data": {
      "text/plain": [
       "(60000, 1)"
      ]
     },
     "execution_count": 12,
     "metadata": {},
     "output_type": "execute_result"
    }
   ],
   "source": [
    "y_train.shape"
   ]
  },
  {
   "cell_type": "code",
   "execution_count": 13,
   "metadata": {},
   "outputs": [
    {
     "data": {
      "text/plain": [
       "255"
      ]
     },
     "execution_count": 13,
     "metadata": {},
     "output_type": "execute_result"
    }
   ],
   "source": [
    "X_train.max()"
   ]
  },
  {
   "cell_type": "code",
   "execution_count": 14,
   "metadata": {},
   "outputs": [
    {
     "data": {
      "text/plain": [
       "0"
      ]
     },
     "execution_count": 14,
     "metadata": {},
     "output_type": "execute_result"
    }
   ],
   "source": [
    "X_train.min()"
   ]
  },
  {
   "cell_type": "code",
   "execution_count": 15,
   "metadata": {},
   "outputs": [
    {
     "data": {
      "text/plain": [
       "9"
      ]
     },
     "execution_count": 15,
     "metadata": {},
     "output_type": "execute_result"
    }
   ],
   "source": [
    "y_train.max()"
   ]
  },
  {
   "cell_type": "code",
   "execution_count": 16,
   "metadata": {},
   "outputs": [
    {
     "data": {
      "text/plain": [
       "0"
      ]
     },
     "execution_count": 16,
     "metadata": {},
     "output_type": "execute_result"
    }
   ],
   "source": [
    "y_train.min()"
   ]
  },
  {
   "cell_type": "code",
   "execution_count": 17,
   "metadata": {},
   "outputs": [],
   "source": [
    "import matplotlib.pyplot as plt\n",
    "%matplotlib inline"
   ]
  },
  {
   "cell_type": "markdown",
   "metadata": {},
   "source": [
    "Let's pick 5 random images from the training set!"
   ]
  },
  {
   "cell_type": "code",
   "execution_count": 18,
   "metadata": {},
   "outputs": [
    {
     "data": {
      "image/png": "[encoded data removed]",
      "text/plain": [
       "<Figure size 2000x2000 with 5 Axes>"
      ]
     },
     "metadata": {},
     "output_type": "display_data"
    }
   ],
   "source": [
    "fig, axes = plt.subplots(nrows=1, ncols=5, figsize=(20, 20), dpi=100)\n",
    "for n, ax in zip(np.random.permutation(len(X_train))[:5], axes):\n",
    "    ax.set_xticks([])\n",
    "    ax.set_yticks([])\n",
    "    ax.set_title(y_train[n])\n",
    "    ax.imshow(X_train[n].reshape(28, 28), cmap=\"Greys\")"
   ]
  },
  {
   "cell_type": "code",
   "execution_count": 19,
   "metadata": {},
   "outputs": [],
   "source": [
    "X_test, y_test = mnist_data.load_testing()\n",
    "X_test = np.array(X_test)\n",
    "y_test = np.array(y_test).reshape(-1, 1)"
   ]
  },
  {
   "cell_type": "code",
   "execution_count": 48,
   "metadata": {},
   "outputs": [],
   "source": [
    "import torch\n",
    "import torch.nn as nn\n",
    "import torch.nn.functional as F"
   ]
  },
  {
   "cell_type": "code",
   "execution_count": 21,
   "metadata": {},
   "outputs": [],
   "source": [
    "device = \"cuda\" if torch.cuda.is_available() else \"cpu\""
   ]
  },
  {
   "cell_type": "code",
   "execution_count": 22,
   "metadata": {},
   "outputs": [],
   "source": [
    "def normalize(input_tensor, dim=None):\n",
    "    if dim is None:\n",
    "        mean = input_tensor.data.mean()\n",
    "        std = input_tensor.data.std()\n",
    "    else:\n",
    "        mean = input_tensor.data.mean(dim=dim)\n",
    "        std = input_tensor.data.std(dim=dim)\n",
    "\n",
    "    input_tensor.data = input_tensor.data - mean # mean of 0\n",
    "    input_tensor.data = input_tensor.data / std.max(torch.tensor(1e-12, dtype=std.dtype, device=std.device)) # standard deviation of 1, prevent division by zero"
   ]
  },
  {
   "cell_type": "code",
   "execution_count": 23,
   "metadata": {},
   "outputs": [],
   "source": [
    "def convert_and_normalize_input(X, dtype=None, device=None, dim=None):\n",
    "    X_minmaxed = torch.tensor(X / 255, dtype=dtype, device=device)\n",
    "\n",
    "    normalize(X_minmaxed, dim=dim)\n",
    "    X_normalized = X_minmaxed\n",
    "\n",
    "    return X_normalized"
   ]
  },
  {
   "cell_type": "code",
   "execution_count": 25,
   "metadata": {},
   "outputs": [],
   "source": [
    "# X_train = convert_and_normalize_input(X_train, dtype=torch.float64, device=device)\n",
    "# X_test = convert_and_normalize_input(X_test, dtype=torch.float64, device=device)\n",
    "X_train = torch.tensor(X_train / 255, dtype=torch.float64, device=device)\n",
    "X_test = torch.tensor(X_test / 255, dtype=torch.float64, device=device)"
   ]
  },
  {
   "cell_type": "code",
   "execution_count": 26,
   "metadata": {},
   "outputs": [
    {
     "data": {
      "text/plain": [
       "tensor([[0., 0., 0.,  ..., 0., 0., 0.],\n",
       "        [0., 0., 0.,  ..., 0., 0., 0.],\n",
       "        [0., 0., 0.,  ..., 0., 0., 0.],\n",
       "        ...,\n",
       "        [0., 0., 0.,  ..., 0., 0., 0.],\n",
       "        [0., 0., 0.,  ..., 0., 0., 0.],\n",
       "        [0., 0., 0.,  ..., 0., 0., 0.]], device='cuda:0', dtype=torch.float64)"
      ]
     },
     "execution_count": 26,
     "metadata": {},
     "output_type": "execute_result"
    }
   ],
   "source": [
    "X_train"
   ]
  },
  {
   "cell_type": "code",
   "execution_count": 27,
   "metadata": {},
   "outputs": [
    {
     "data": {
      "text/plain": [
       "torch.Size([60000, 784])"
      ]
     },
     "execution_count": 27,
     "metadata": {},
     "output_type": "execute_result"
    }
   ],
   "source": [
    "X_train.shape"
   ]
  },
  {
   "cell_type": "code",
   "execution_count": 28,
   "metadata": {},
   "outputs": [
    {
     "data": {
      "text/plain": [
       "torch.Size([10000, 784])"
      ]
     },
     "execution_count": 28,
     "metadata": {},
     "output_type": "execute_result"
    }
   ],
   "source": [
    "X_test.shape"
   ]
  },
  {
   "cell_type": "code",
   "execution_count": 29,
   "metadata": {},
   "outputs": [],
   "source": [
    "def labels_to_onehot(Y, device=None):\n",
    "    return torch.tensor(Y, dtype=torch.uint8, device=device).eq(torch.arange(0, 10, dtype=torch.uint8, device=device))"
   ]
  },
  {
   "cell_type": "code",
   "execution_count": 30,
   "metadata": {},
   "outputs": [],
   "source": [
    "Y_train = labels_to_onehot(y_train, device=device)\n",
    "Y_train.data = Y_train.data.type(torch.float64)\n",
    "Y_test = labels_to_onehot(y_test, device=device)\n",
    "Y_test.data = Y_test.data.type(torch.float64)"
   ]
  },
  {
   "cell_type": "code",
   "execution_count": 74,
   "metadata": {},
   "outputs": [],
   "source": [
    "# Take out some examples from the training set as the validation set (50000 for training, 10000 for validation)\n",
    "randidx = torch.randperm(len(X_train))\n",
    "X_val = X_train[randidx[:10000]]\n",
    "X_train = X_train[randidx[10000:]]\n",
    "Y_val = Y_train[randidx[:10000]]\n",
    "Y_train = Y_train[randidx[10000:]]"
   ]
  },
  {
   "cell_type": "code",
   "execution_count": null,
   "metadata": {},
   "outputs": [],
   "source": []
  },
  {
   "cell_type": "code",
   "execution_count": 31,
   "metadata": {},
   "outputs": [],
   "source": [
    "epsilon = 0.01\n",
    "\n",
    "w1 = torch.tensor(torch.rand(100, X_train.shape[1], dtype=torch.float64) * 2 * epsilon - epsilon, device=device, requires_grad=True)\n",
    "b1 = torch.tensor(torch.rand(100, 1, dtype=torch.float64) * 2 * epsilon - epsilon, device=device, requires_grad=True)\n",
    "w2 = torch.tensor(torch.rand(10, w1.shape[0], dtype=torch.float64) * 2 * epsilon - epsilon, device=device, requires_grad=True)\n",
    "b2 = torch.tensor(torch.rand(10, 1, dtype=torch.float64) * 2 * epsilon - epsilon, device=device, requires_grad=True)"
   ]
  },
  {
   "cell_type": "code",
   "execution_count": 32,
   "metadata": {},
   "outputs": [
    {
     "data": {
      "text/plain": [
       "tensor([[-0.0047,  0.0015,  0.0087,  ..., -0.0029,  0.0072,  0.0030],\n",
       "        [ 0.0077, -0.0072,  0.0033,  ...,  0.0035,  0.0059, -0.0095],\n",
       "        [ 0.0021,  0.0032, -0.0014,  ...,  0.0056,  0.0064, -0.0074],\n",
       "        ...,\n",
       "        [ 0.0062, -0.0099,  0.0046,  ..., -0.0083,  0.0080, -0.0029],\n",
       "        [-0.0063, -0.0019,  0.0075,  ...,  0.0069, -0.0071, -0.0097],\n",
       "        [-0.0070,  0.0022,  0.0023,  ...,  0.0014, -0.0085,  0.0059]],\n",
       "       device='cuda:0', dtype=torch.float64, requires_grad=True)"
      ]
     },
     "execution_count": 32,
     "metadata": {},
     "output_type": "execute_result"
    }
   ],
   "source": [
    "w1"
   ]
  },
  {
   "cell_type": "code",
   "execution_count": 72,
   "metadata": {},
   "outputs": [],
   "source": [
    "def predict(probs, one_hot=False):\n",
    "    preds = torch.tensor(probs.argmax(dim=1).reshape((-1, 1)), dtype=torch.uint8, device=probs.device)\n",
    "\n",
    "    if one_hot is True:\n",
    "        preds.data = preds.eq(torch.arange(0, 10, dtype=torch.uint8, device=probs.device))\n",
    "\n",
    "    return preds\n",
    "\n",
    "\n",
    "def accuracy_score(pred, true):\n",
    "    assert len(pred) == len(true)\n",
    "\n",
    "    pred = pred.cuda().argmax(dim=1)\n",
    "    true = true.cuda().argmax(dim=1)\n",
    "\n",
    "    accuracy = pred.eq(true).sum(dtype=pred.dtype).item() / float(len(true))\n",
    "\n",
    "    return accuracy\n",
    "\n",
    "\n",
    "def reset(tensors, e=0.01):\n",
    "    for tensor in tensors:\n",
    "        tensor.data = torch.tensor(torch.rand(tensor.size(), dtype=tensor.dtype, device=tensor.device) * 2 * e - e)\n",
    "\n",
    "\n",
    "def feedforward(input_data, weight_matrices, biase_matrices=None):\n",
    "    assert biase_matrices is None or len(weight_matrices) == len(biase_matrices)\n",
    "    \n",
    "    output = input_data.clone()\n",
    "    \n",
    "    for n, weights in enumerate(weight_matrices):\n",
    "        output = output.mm(weights.t())\n",
    "        if biase_matrices is not None:\n",
    "            output = output + biase_matrices[n].t()\n",
    "        output = torch.sigmoid(output)\n",
    "    \n",
    "    return output\n",
    "\n",
    "def binary_class_cross_entropy_loss(pred, true, per_example=False):\n",
    "    assert len(pred) == len(true)\n",
    "    \n",
    "    loss = torch.sum(-true * torch.log(pred) - (1 - true) * torch.log(1 - pred), dim=1, dtype=pred.dtype)\n",
    "    if per_example is False:\n",
    "        loss = loss.sum() / len(true)\n",
    "        if loss.item() != loss.item(): # if the result is nan (probably due to 0 value inside log functions)\n",
    "            loss = torch.sum(-true * torch.log(pred + 1e-12) - (1 - true) * torch.log(1 - pred + 1e-12), dtype=pred.dtype)\n",
    "    \n",
    "    return loss\n",
    "\n",
    "\n",
    "def regularization_loss(weight_matrices, regular_coef, n_examples):\n",
    "    loss = (regular_coef / (2 * n_examples)) * sum([weights.pow(2).sum() for weights in weight_matrices])\n",
    "    return loss"
   ]
  },
  {
   "cell_type": "code",
   "execution_count": 34,
   "metadata": {},
   "outputs": [],
   "source": [
    "def loss_function(prob, true, weight_matrices, regular_coef, n_examples):\n",
    "    return binary_class_cross_entropy_loss(prob, true) + regularization_loss(weight_matrices, regular_coef, n_examples)"
   ]
  },
  {
   "cell_type": "code",
   "execution_count": 35,
   "metadata": {},
   "outputs": [],
   "source": [
    "# Set up logs\n",
    "train_loss_history = []\n",
    "train_acc_history = []\n",
    "val_loss_history = []\n",
    "val_acc_history = []"
   ]
  },
  {
   "cell_type": "code",
   "execution_count": 36,
   "metadata": {},
   "outputs": [],
   "source": [
    "# Bundle the weights and biases into two separate lists so that I can use them for my functions\n",
    "weights = [w1, w2]\n",
    "biases = [b1, b2]"
   ]
  },
  {
   "cell_type": "code",
   "execution_count": 90,
   "metadata": {},
   "outputs": [],
   "source": [
    "# Finding the best learning rate\n",
    "def lr_find(X, Y, weight_matrices, bias_matrices, start_lr=1e-8, reg_coef=0):\n",
    "    \n",
    "    weight_matrices = [weight.clone() for weight in weight_matrices]\n",
    "    bias_matrices = [bias.clone() for bias in bias_matrices]\n",
    "    params = weight_matrices + bias_matrices\n",
    "    reset(params)\n",
    "    \n",
    "    for param in params:\n",
    "        param.retain_grad()\n",
    "\n",
    "    learning_rate = start_lr\n",
    "    lr_history = []\n",
    "    loss_history = []\n",
    "    \n",
    "    check_interval = 3\n",
    "    lr_multiplier = 1.2\n",
    "    \n",
    "    gradient_exploding = False\n",
    "    iteration_count = 0\n",
    "    while not gradient_exploding:\n",
    "        loss = loss_function(feedforward(X, weight_matrices, bias_matrices), Y, weight_matrices, reg_coef, len(X))\n",
    "        loss.backward()\n",
    "        \n",
    "        for param in params:\n",
    "            param.data -= learning_rate * param.grad.data\n",
    "            param.grad.data.zero_()\n",
    "            \n",
    "        lr_history.append(learning_rate)\n",
    "        loss_history.append(loss.item())\n",
    "        \n",
    "        iteration_count += 1\n",
    "        \n",
    "        if iteration_count > check_interval and iteration_count % check_interval == 0 and loss_history[-1] > loss_history[-1 - check_interval]:\n",
    "            gradient_exploding = True\n",
    "        \n",
    "        else:\n",
    "            learning_rate *= lr_multiplier\n",
    "    \n",
    "    return (lr_history, loss_history)\n",
    "\n",
    "\n",
    "def lr_plot(lr_list, loss_list):\n",
    "    plt.xscale('log')\n",
    "    plt.locator_params(axis='y', nbins=10)\n",
    "    plt.xlabel('learning rate (in log scale)')\n",
    "    plt.ylabel('loss')\n",
    "    plt.grid()\n",
    "    plt.plot(lr_list, loss_list)"
   ]
  },
  {
   "cell_type": "code",
   "execution_count": 86,
   "metadata": {},
   "outputs": [],
   "source": [
    "logs = lr_find(X_train, Y_train, weights, biases, start_lr=1e-2, reg_coef=1)"
   ]
  },
  {
   "cell_type": "code",
   "execution_count": 91,
   "metadata": {},
   "outputs": [
    {
     "data": {
      "image/png": "[encoded data removed]",
      "text/plain": [
       "<Figure size 432x288 with 1 Axes>"
      ]
     },
     "metadata": {
      "needs_background": "light"
     },
     "output_type": "display_data"
    }
   ],
   "source": [
    "lr_plot(logs[0], logs[1])"
   ]
  },
  {
   "cell_type": "code",
   "execution_count": 81,
   "metadata": {},
   "outputs": [
    {
     "data": {
      "text/plain": [
       "[3.251345560626893,\n",
       " 3.2497934203785515,\n",
       " 3.249350771853233,\n",
       " 3.2491612163554024,\n",
       " 3.2489798182224634,\n",
       " 3.248760267532711,\n",
       " 3.2484880022012828,\n",
       " 3.24814537304633,\n",
       " 3.2477055605095693,\n",
       " 3.247125788010648,\n",
       " 3.2463345758599167,\n",
       " 3.2452066273295075,\n",
       " 3.243510985891766,\n",
       " 3.2407982344285013,\n",
       " 3.2361409585890244,\n",
       " 3.2275105234401487,\n",
       " 3.210698058995046,\n",
       " 3.2161527199674493,\n",
       " 8.723876469253756,\n",
       " 11.56182543230193]"
      ]
     },
     "execution_count": 81,
     "metadata": {},
     "output_type": "execute_result"
    }
   ],
   "source": [
    "logs[1][-20:]"
   ]
  },
  {
   "cell_type": "code",
   "execution_count": 77,
   "metadata": {},
   "outputs": [],
   "source": [
    "# Hyperparameters\n",
    "epoch = 100\n",
    "lambda_term = 1\n",
    "learning_rate = 1.0"
   ]
  },
  {
   "cell_type": "code",
   "execution_count": 78,
   "metadata": {
    "scrolled": true
   },
   "outputs": [
    {
     "name": "stdout",
     "output_type": "stream",
     "text": [
      "\n",
      "Iteration 10\n",
      "[Training Loss = 3.437517\tTraining Accuracy = 0.112920]\n",
      "[Validation Loss = 3.430215\t\tValidation Accuracy = 0.113200]\n",
      "\n",
      "Iteration 20\n",
      "[Training Loss = 3.350616\tTraining Accuracy = 0.124940]\n",
      "[Validation Loss = 3.345103\t\tValidation Accuracy = 0.113100]\n",
      "\n",
      "Iteration 30\n",
      "[Training Loss = 3.214999\tTraining Accuracy = 0.186660]\n",
      "[Validation Loss = 3.200547\t\tValidation Accuracy = 0.109100]\n",
      "\n",
      "Iteration 40\n",
      "[Training Loss = 2.974156\tTraining Accuracy = 0.287560]\n",
      "[Validation Loss = 2.952571\t\tValidation Accuracy = 0.101900]\n",
      "\n",
      "Iteration 50\n",
      "[Training Loss = 2.611151\tTraining Accuracy = 0.487820]\n",
      "[Validation Loss = 2.580184\t\tValidation Accuracy = 0.101400]\n",
      "\n",
      "Iteration 60\n",
      "[Training Loss = 2.196824\tTraining Accuracy = 0.606140]\n",
      "[Validation Loss = 2.176572\t\tValidation Accuracy = 0.100700]\n",
      "\n",
      "Iteration 70\n",
      "[Training Loss = 1.890192\tTraining Accuracy = 0.690880]\n",
      "[Validation Loss = 1.882919\t\tValidation Accuracy = 0.097800]\n",
      "\n",
      "Iteration 80\n",
      "[Training Loss = 1.673947\tTraining Accuracy = 0.749920]\n",
      "[Validation Loss = 1.671784\t\tValidation Accuracy = 0.098400]\n",
      "\n",
      "Iteration 90\n",
      "[Training Loss = 1.501277\tTraining Accuracy = 0.792160]\n",
      "[Validation Loss = 1.499965\t\tValidation Accuracy = 0.096900]\n",
      "\n",
      "Iteration 100\n",
      "[Training Loss = 1.357445\tTraining Accuracy = 0.820960]\n",
      "[Validation Loss = 1.355914\t\tValidation Accuracy = 0.096200]\n",
      "\n",
      "Iteration finished\n",
      "Training finished in 100 iterations\n",
      "\n",
      "Final training loss = 1.3574447972558839\n",
      "Final training accuracy = 0.82096\n",
      "\n",
      "Final validation loss = 1.35591379832832\n",
      "Final validation accuracy = 1.35591379832832\n",
      "\n",
      "Test accuracy = 0.8275\n"
     ]
    }
   ],
   "source": [
    "tol_loss = 1e-3\n",
    "tol_step = 1e-8\n",
    "\n",
    "reset_progress = True\n",
    "\n",
    "if reset_progress is True:\n",
    "    reset(weights)\n",
    "    reset(biases)\n",
    "    train_loss_history = []\n",
    "    train_acc_history = []\n",
    "    val_loss_history = []\n",
    "    val_acc_history = []\n",
    "\n",
    "exit_reason = \"\"\n",
    "\n",
    "backups = [{'parameters':[param.clone() for param in (weights + biases)],\n",
    "            'index':len(train_loss_history),\n",
    "            'train_loss':999 if train_loss_history == [] else train_loss_history[-1]}]\n",
    "\n",
    "backup_during_training = True\n",
    "n_checkpoint = 10 # backup the parameters and iteration number n_checkpoint times during a full set of iterations\n",
    "\n",
    "checkpoint_interval = epoch // n_checkpoint\n",
    "for iteration in range(epoch):\n",
    "    output = feedforward(X_train, weights, biases)\n",
    "    loss = loss_function(output, Y_train, weights, lambda_term, len(X_train))\n",
    "    \n",
    "    loss.backward()\n",
    "    \n",
    "    for param in (weights + biases):\n",
    "        param.data -= learning_rate * param.grad.data\n",
    "        param.grad.data.zero_()\n",
    "\n",
    "    train_pred = predict(output, one_hot=True)\n",
    "\n",
    "    train_loss_history.append(loss.item())\n",
    "    train_acc_history.append(accuracy_score(train_pred, Y_train))\n",
    "    \n",
    "    \n",
    "    val_prob = feedforward(X_val, weights, biases)\n",
    "    val_pred = predict(val_prob, one_hot=True)\n",
    "\n",
    "    val_loss_history.append(binary_class_cross_entropy_loss(val_prob, Y_val).item())\n",
    "    val_acc_history.append(accuracy_score(val_pred, Y_test))\n",
    "    \n",
    "    if (iteration + 1) % 10 == 0:\n",
    "        print(f\"\\nIteration {iteration + 1}\")\n",
    "        print(f\"[Training Loss = {train_loss_history[-1]:.6f}\\t\"\n",
    "              f\"Training Accuracy = {train_acc_history[-1]:.6f}]\\n\"\n",
    "              f\"[Validation Loss = {val_loss_history[-1]:.6f}\\t\\t\"\n",
    "              f\"Validation Accuracy = {val_acc_history[-1]:.6f}]\")\n",
    "\n",
    "    if backup_during_training is True and iteration % checkpoint_interval == 0:\n",
    "        backups.append({'parameters':[param.clone() for param in (weights + biases)],\n",
    "                        'index':len(train_loss_history),\n",
    "                        'train_loss':train_loss_history[-1]})\n",
    "\n",
    "\n",
    "    if train_loss_history[-1] < tol_loss:\n",
    "        exit_reason = \"Loss value less than tol_loss value\"\n",
    "        break\n",
    "    \n",
    "    elif len(train_loss_history) > 1 and abs(train_loss_history[-1] - train_loss_history[-2]) < tol_step:\n",
    "        exit_reason = \"Loss value change less than tol_step value\"\n",
    "        break\n",
    "    \n",
    "    elif iteration == (epoch - 1):\n",
    "        exit_reason = \"Iteration finished\"\n",
    "\n",
    "test_accuracy = accuracy_score(feedforward(X_test, weights, biases), Y_test)\n",
    "print(f\"\\n{exit_reason}\")\n",
    "print(f\"Training finished in {iteration + 1} iterations\")\n",
    "print(f\"\\nFinal training loss = {train_loss_history[-1]}\")\n",
    "print(f\"Final training accuracy = {train_acc_history[-1]}\")\n",
    "print(f\"\\nFinal validation loss = {val_loss_history[-1]}\")\n",
    "print(f\"Final validation accuracy = {val_loss_history[-1]}\")\n",
    "print(f\"\\nTest accuracy = {test_accuracy}\")"
   ]
  },
  {
   "cell_type": "code",
   "execution_count": 124,
   "metadata": {},
   "outputs": [
    {
     "data": {
      "text/plain": [
       "[(0, 0.06908725931491116)]"
      ]
     },
     "execution_count": 124,
     "metadata": {},
     "output_type": "execute_result"
    }
   ],
   "source": [
    "list(enumerate([backup['train_loss'] for backup in backups]))"
   ]
  },
  {
   "cell_type": "code",
   "execution_count": 125,
   "metadata": {},
   "outputs": [],
   "source": [
    "are_you_sure_you_want_to_revert = False\n",
    "\n",
    "i = 0\n",
    "\n",
    "if are_you_sure_you_want_to_revert is True:\n",
    "    for n, param in enumerate(weights + biases):\n",
    "        param.data = backups[i]['parameters'][n].data\n",
    "    train_loss_history = train_loss_history[:backups[i]['index']]\n",
    "    train_acc_history = train_acc_history[:backups[i]['index']]\n",
    "    val_loss_history = val_loss_history[:backups[i]['index']]\n",
    "    val_acc_history = val_acc_history[:backups[i]['index']]"
   ]
  },
  {
   "cell_type": "code",
   "execution_count": 42,
   "metadata": {},
   "outputs": [
    {
     "ename": "ValueError",
     "evalue": "x and y must have same first dimension, but have shapes (300,) and (200,)",
     "output_type": "error",
     "traceback": [
      "\u001b[1;31m---------------------------------------------------------------------------\u001b[0m",
      "\u001b[1;31mValueError\u001b[0m                                Traceback (most recent call last)",
      "\u001b[1;32m<ipython-input-42-a895e4a39d4f>\u001b[0m in \u001b[0;36m<module>\u001b[1;34m()\u001b[0m\n\u001b[1;32m----> 1\u001b[1;33m \u001b[0mplt\u001b[0m\u001b[1;33m.\u001b[0m\u001b[0mplot\u001b[0m\u001b[1;33m(\u001b[0m\u001b[0mlist\u001b[0m\u001b[1;33m(\u001b[0m\u001b[0mrange\u001b[0m\u001b[1;33m(\u001b[0m\u001b[0mlen\u001b[0m\u001b[1;33m(\u001b[0m\u001b[0mtrain_loss_history\u001b[0m\u001b[1;33m)\u001b[0m \u001b[1;33m+\u001b[0m \u001b[1;36m1\u001b[0m \u001b[1;33m-\u001b[0m \u001b[1;36m300\u001b[0m\u001b[1;33m,\u001b[0m \u001b[0mlen\u001b[0m\u001b[1;33m(\u001b[0m\u001b[0mtrain_loss_history\u001b[0m\u001b[1;33m)\u001b[0m \u001b[1;33m+\u001b[0m \u001b[1;36m1\u001b[0m\u001b[1;33m)\u001b[0m\u001b[1;33m)\u001b[0m\u001b[1;33m,\u001b[0m \u001b[0mtrain_loss_history\u001b[0m\u001b[1;33m[\u001b[0m\u001b[1;33m-\u001b[0m\u001b[1;36m300\u001b[0m\u001b[1;33m:\u001b[0m\u001b[1;33m]\u001b[0m\u001b[1;33m)\u001b[0m\u001b[1;33m\u001b[0m\u001b[0m\n\u001b[0m",
      "\u001b[1;32m~\\Anaconda3\\envs\\pytorch\\lib\\site-packages\\matplotlib\\pyplot.py\u001b[0m in \u001b[0;36mplot\u001b[1;34m(*args, **kwargs)\u001b[0m\n\u001b[0;32m   3361\u001b[0m                       mplDeprecation)\n\u001b[0;32m   3362\u001b[0m     \u001b[1;32mtry\u001b[0m\u001b[1;33m:\u001b[0m\u001b[1;33m\u001b[0m\u001b[0m\n\u001b[1;32m-> 3363\u001b[1;33m         \u001b[0mret\u001b[0m \u001b[1;33m=\u001b[0m \u001b[0max\u001b[0m\u001b[1;33m.\u001b[0m\u001b[0mplot\u001b[0m\u001b[1;33m(\u001b[0m\u001b[1;33m*\u001b[0m\u001b[0margs\u001b[0m\u001b[1;33m,\u001b[0m \u001b[1;33m**\u001b[0m\u001b[0mkwargs\u001b[0m\u001b[1;33m)\u001b[0m\u001b[1;33m\u001b[0m\u001b[0m\n\u001b[0m\u001b[0;32m   3364\u001b[0m     \u001b[1;32mfinally\u001b[0m\u001b[1;33m:\u001b[0m\u001b[1;33m\u001b[0m\u001b[0m\n\u001b[0;32m   3365\u001b[0m         \u001b[0max\u001b[0m\u001b[1;33m.\u001b[0m\u001b[0m_hold\u001b[0m \u001b[1;33m=\u001b[0m \u001b[0mwashold\u001b[0m\u001b[1;33m\u001b[0m\u001b[0m\n",
      "\u001b[1;32m~\\Anaconda3\\envs\\pytorch\\lib\\site-packages\\matplotlib\\__init__.py\u001b[0m in \u001b[0;36minner\u001b[1;34m(ax, *args, **kwargs)\u001b[0m\n\u001b[0;32m   1865\u001b[0m                         \u001b[1;34m\"the Matplotlib list!)\"\u001b[0m \u001b[1;33m%\u001b[0m \u001b[1;33m(\u001b[0m\u001b[0mlabel_namer\u001b[0m\u001b[1;33m,\u001b[0m \u001b[0mfunc\u001b[0m\u001b[1;33m.\u001b[0m\u001b[0m__name__\u001b[0m\u001b[1;33m)\u001b[0m\u001b[1;33m,\u001b[0m\u001b[1;33m\u001b[0m\u001b[0m\n\u001b[0;32m   1866\u001b[0m                         RuntimeWarning, stacklevel=2)\n\u001b[1;32m-> 1867\u001b[1;33m             \u001b[1;32mreturn\u001b[0m \u001b[0mfunc\u001b[0m\u001b[1;33m(\u001b[0m\u001b[0max\u001b[0m\u001b[1;33m,\u001b[0m \u001b[1;33m*\u001b[0m\u001b[0margs\u001b[0m\u001b[1;33m,\u001b[0m \u001b[1;33m**\u001b[0m\u001b[0mkwargs\u001b[0m\u001b[1;33m)\u001b[0m\u001b[1;33m\u001b[0m\u001b[0m\n\u001b[0m\u001b[0;32m   1868\u001b[0m \u001b[1;33m\u001b[0m\u001b[0m\n\u001b[0;32m   1869\u001b[0m         inner.__doc__ = _add_data_doc(inner.__doc__,\n",
      "\u001b[1;32m~\\Anaconda3\\envs\\pytorch\\lib\\site-packages\\matplotlib\\axes\\_axes.py\u001b[0m in \u001b[0;36mplot\u001b[1;34m(self, *args, **kwargs)\u001b[0m\n\u001b[0;32m   1526\u001b[0m         \u001b[0mkwargs\u001b[0m \u001b[1;33m=\u001b[0m \u001b[0mcbook\u001b[0m\u001b[1;33m.\u001b[0m\u001b[0mnormalize_kwargs\u001b[0m\u001b[1;33m(\u001b[0m\u001b[0mkwargs\u001b[0m\u001b[1;33m,\u001b[0m \u001b[0m_alias_map\u001b[0m\u001b[1;33m)\u001b[0m\u001b[1;33m\u001b[0m\u001b[0m\n\u001b[0;32m   1527\u001b[0m \u001b[1;33m\u001b[0m\u001b[0m\n\u001b[1;32m-> 1528\u001b[1;33m         \u001b[1;32mfor\u001b[0m \u001b[0mline\u001b[0m \u001b[1;32min\u001b[0m \u001b[0mself\u001b[0m\u001b[1;33m.\u001b[0m\u001b[0m_get_lines\u001b[0m\u001b[1;33m(\u001b[0m\u001b[1;33m*\u001b[0m\u001b[0margs\u001b[0m\u001b[1;33m,\u001b[0m \u001b[1;33m**\u001b[0m\u001b[0mkwargs\u001b[0m\u001b[1;33m)\u001b[0m\u001b[1;33m:\u001b[0m\u001b[1;33m\u001b[0m\u001b[0m\n\u001b[0m\u001b[0;32m   1529\u001b[0m             \u001b[0mself\u001b[0m\u001b[1;33m.\u001b[0m\u001b[0madd_line\u001b[0m\u001b[1;33m(\u001b[0m\u001b[0mline\u001b[0m\u001b[1;33m)\u001b[0m\u001b[1;33m\u001b[0m\u001b[0m\n\u001b[0;32m   1530\u001b[0m             \u001b[0mlines\u001b[0m\u001b[1;33m.\u001b[0m\u001b[0mappend\u001b[0m\u001b[1;33m(\u001b[0m\u001b[0mline\u001b[0m\u001b[1;33m)\u001b[0m\u001b[1;33m\u001b[0m\u001b[0m\n",
      "\u001b[1;32m~\\Anaconda3\\envs\\pytorch\\lib\\site-packages\\matplotlib\\axes\\_base.py\u001b[0m in \u001b[0;36m_grab_next_args\u001b[1;34m(self, *args, **kwargs)\u001b[0m\n\u001b[0;32m    404\u001b[0m                 \u001b[0mthis\u001b[0m \u001b[1;33m+=\u001b[0m \u001b[0margs\u001b[0m\u001b[1;33m[\u001b[0m\u001b[1;36m0\u001b[0m\u001b[1;33m]\u001b[0m\u001b[1;33m,\u001b[0m\u001b[1;33m\u001b[0m\u001b[0m\n\u001b[0;32m    405\u001b[0m                 \u001b[0margs\u001b[0m \u001b[1;33m=\u001b[0m \u001b[0margs\u001b[0m\u001b[1;33m[\u001b[0m\u001b[1;36m1\u001b[0m\u001b[1;33m:\u001b[0m\u001b[1;33m]\u001b[0m\u001b[1;33m\u001b[0m\u001b[0m\n\u001b[1;32m--> 406\u001b[1;33m             \u001b[1;32mfor\u001b[0m \u001b[0mseg\u001b[0m \u001b[1;32min\u001b[0m \u001b[0mself\u001b[0m\u001b[1;33m.\u001b[0m\u001b[0m_plot_args\u001b[0m\u001b[1;33m(\u001b[0m\u001b[0mthis\u001b[0m\u001b[1;33m,\u001b[0m \u001b[0mkwargs\u001b[0m\u001b[1;33m)\u001b[0m\u001b[1;33m:\u001b[0m\u001b[1;33m\u001b[0m\u001b[0m\n\u001b[0m\u001b[0;32m    407\u001b[0m                 \u001b[1;32myield\u001b[0m \u001b[0mseg\u001b[0m\u001b[1;33m\u001b[0m\u001b[0m\n\u001b[0;32m    408\u001b[0m \u001b[1;33m\u001b[0m\u001b[0m\n",
      "\u001b[1;32m~\\Anaconda3\\envs\\pytorch\\lib\\site-packages\\matplotlib\\axes\\_base.py\u001b[0m in \u001b[0;36m_plot_args\u001b[1;34m(self, tup, kwargs)\u001b[0m\n\u001b[0;32m    381\u001b[0m             \u001b[0mx\u001b[0m\u001b[1;33m,\u001b[0m \u001b[0my\u001b[0m \u001b[1;33m=\u001b[0m \u001b[0mindex_of\u001b[0m\u001b[1;33m(\u001b[0m\u001b[0mtup\u001b[0m\u001b[1;33m[\u001b[0m\u001b[1;33m-\u001b[0m\u001b[1;36m1\u001b[0m\u001b[1;33m]\u001b[0m\u001b[1;33m)\u001b[0m\u001b[1;33m\u001b[0m\u001b[0m\n\u001b[0;32m    382\u001b[0m \u001b[1;33m\u001b[0m\u001b[0m\n\u001b[1;32m--> 383\u001b[1;33m         \u001b[0mx\u001b[0m\u001b[1;33m,\u001b[0m \u001b[0my\u001b[0m \u001b[1;33m=\u001b[0m \u001b[0mself\u001b[0m\u001b[1;33m.\u001b[0m\u001b[0m_xy_from_xy\u001b[0m\u001b[1;33m(\u001b[0m\u001b[0mx\u001b[0m\u001b[1;33m,\u001b[0m \u001b[0my\u001b[0m\u001b[1;33m)\u001b[0m\u001b[1;33m\u001b[0m\u001b[0m\n\u001b[0m\u001b[0;32m    384\u001b[0m \u001b[1;33m\u001b[0m\u001b[0m\n\u001b[0;32m    385\u001b[0m         \u001b[1;32mif\u001b[0m \u001b[0mself\u001b[0m\u001b[1;33m.\u001b[0m\u001b[0mcommand\u001b[0m \u001b[1;33m==\u001b[0m \u001b[1;34m'plot'\u001b[0m\u001b[1;33m:\u001b[0m\u001b[1;33m\u001b[0m\u001b[0m\n",
      "\u001b[1;32m~\\Anaconda3\\envs\\pytorch\\lib\\site-packages\\matplotlib\\axes\\_base.py\u001b[0m in \u001b[0;36m_xy_from_xy\u001b[1;34m(self, x, y)\u001b[0m\n\u001b[0;32m    240\u001b[0m         \u001b[1;32mif\u001b[0m \u001b[0mx\u001b[0m\u001b[1;33m.\u001b[0m\u001b[0mshape\u001b[0m\u001b[1;33m[\u001b[0m\u001b[1;36m0\u001b[0m\u001b[1;33m]\u001b[0m \u001b[1;33m!=\u001b[0m \u001b[0my\u001b[0m\u001b[1;33m.\u001b[0m\u001b[0mshape\u001b[0m\u001b[1;33m[\u001b[0m\u001b[1;36m0\u001b[0m\u001b[1;33m]\u001b[0m\u001b[1;33m:\u001b[0m\u001b[1;33m\u001b[0m\u001b[0m\n\u001b[0;32m    241\u001b[0m             raise ValueError(\"x and y must have same first dimension, but \"\n\u001b[1;32m--> 242\u001b[1;33m                              \"have shapes {} and {}\".format(x.shape, y.shape))\n\u001b[0m\u001b[0;32m    243\u001b[0m         \u001b[1;32mif\u001b[0m \u001b[0mx\u001b[0m\u001b[1;33m.\u001b[0m\u001b[0mndim\u001b[0m \u001b[1;33m>\u001b[0m \u001b[1;36m2\u001b[0m \u001b[1;32mor\u001b[0m \u001b[0my\u001b[0m\u001b[1;33m.\u001b[0m\u001b[0mndim\u001b[0m \u001b[1;33m>\u001b[0m \u001b[1;36m2\u001b[0m\u001b[1;33m:\u001b[0m\u001b[1;33m\u001b[0m\u001b[0m\n\u001b[0;32m    244\u001b[0m             raise ValueError(\"x and y can be no greater than 2-D, but have \"\n",
      "\u001b[1;31mValueError\u001b[0m: x and y must have same first dimension, but have shapes (300,) and (200,)"
     ]
    },
    {
     "data": {
      "image/png": "[encoded data removed]",
      "text/plain": [
       "<Figure size 432x288 with 1 Axes>"
      ]
     },
     "metadata": {
      "needs_background": "light"
     },
     "output_type": "display_data"
    }
   ],
   "source": [
    "plt.plot(list(range(len(train_loss_history) + 1 - 300, len(train_loss_history) + 1)), train_loss_history[-300:])"
   ]
  },
  {
   "cell_type": "code",
   "execution_count": 130,
   "metadata": {},
   "outputs": [
    {
     "data": {
      "text/plain": [
       "10364"
      ]
     },
     "execution_count": 130,
     "metadata": {},
     "output_type": "execute_result"
    }
   ],
   "source": [
    "len(train_loss_history)"
   ]
  },
  {
   "cell_type": "code",
   "execution_count": 43,
   "metadata": {},
   "outputs": [
    {
     "data": {
      "text/plain": [
       "[24798, 8729, 28357, 59915, 25546]"
      ]
     },
     "execution_count": 43,
     "metadata": {},
     "output_type": "execute_result"
    }
   ],
   "source": [
    "top5_incorrect = binary_class_cross_entropy_loss(feedforward(X_train, weights, biases), Y_train, per_example=True).sort(dim=0, descending=True)[1][:5].cpu().tolist()\n",
    "top5_incorrect"
   ]
  },
  {
   "cell_type": "code",
   "execution_count": 44,
   "metadata": {},
   "outputs": [
    {
     "data": {
      "image/png": "[encoded data removed]",
      "text/plain": [
       "<Figure size 2000x2000 with 5 Axes>"
      ]
     },
     "metadata": {},
     "output_type": "display_data"
    }
   ],
   "source": [
    "fig, axes = plt.subplots(nrows=1, ncols=len(top5_incorrect), figsize=(20, 20), dpi=100)\n",
    "for n, ax in zip(top5_incorrect, axes):\n",
    "    ax.set_xticks([])\n",
    "    ax.set_yticks([])\n",
    "    ax.set_title(y_train[n])\n",
    "    ax.set_xlabel(f\"predicted : {predict(feedforward(X_train[n].unsqueeze(0), weights, biases)).item()}\")\n",
    "    ax.imshow(X_train[n].reshape(28, 28), cmap=\"Greys\")"
   ]
  },
  {
   "cell_type": "code",
   "execution_count": 142,
   "metadata": {},
   "outputs": [],
   "source": [
    "fig.savefig(\"./most_incorrect_5.png\", dpi='figure', orientation='landscape')"
   ]
  },
  {
   "cell_type": "code",
   "execution_count": null,
   "metadata": {},
   "outputs": [],
   "source": []
  },
  {
   "cell_type": "code",
   "execution_count": 45,
   "metadata": {},
   "outputs": [
    {
     "data": {
      "text/plain": [
       "[40679, 17248, 32004, 42202, 26969]"
      ]
     },
     "execution_count": 45,
     "metadata": {},
     "output_type": "execute_result"
    }
   ],
   "source": [
    "top5_correct = binary_class_cross_entropy_loss(feedforward(X_train, weights, biases), Y_train, per_example=True).sort(dim=0, descending=False)[1][:5].cpu().tolist()\n",
    "top5_correct"
   ]
  },
  {
   "cell_type": "code",
   "execution_count": 46,
   "metadata": {},
   "outputs": [
    {
     "data": {
      "image/png": "[encoded data removed]",
      "text/plain": [
       "<Figure size 2000x2000 with 5 Axes>"
      ]
     },
     "metadata": {},
     "output_type": "display_data"
    }
   ],
   "source": [
    "fig, axes = plt.subplots(nrows=1, ncols=len(top5_correct), figsize=(20, 20), dpi=100)\n",
    "for n, ax in zip(top5_correct, axes):\n",
    "    ax.set_xticks([])\n",
    "    ax.set_yticks([])\n",
    "    ax.set_title(y_train[n])\n",
    "    ax.set_xlabel(f\"predicted : {predict(feedforward(X_train[n].unsqueeze(0), weights, biases)).item()}\")\n",
    "    ax.imshow(X_train[n].reshape(28, 28), cmap=\"Greys\")"
   ]
  },
  {
   "cell_type": "code",
   "execution_count": 146,
   "metadata": {},
   "outputs": [],
   "source": [
    "fig.savefig(\"./most_correct_5.png\", dpi='figure', orientation='landscape')"
   ]
  },
  {
   "cell_type": "code",
   "execution_count": null,
   "metadata": {},
   "outputs": [],
   "source": []
  }
 ],
 "metadata": {
  "kernelspec": {
   "display_name": "Python 3",
   "language": "python",
   "name": "python3"
  },
  "language_info": {
   "codemirror_mode": {
    "name": "ipython",
    "version": 3
   },
   "file_extension": ".py",
   "mimetype": "text/x-python",
   "name": "python",
   "nbconvert_exporter": "python",
   "pygments_lexer": "ipython3",
   "version": "3.7.0"
  }
 },
 "nbformat": 4,
 "nbformat_minor": 2
}
